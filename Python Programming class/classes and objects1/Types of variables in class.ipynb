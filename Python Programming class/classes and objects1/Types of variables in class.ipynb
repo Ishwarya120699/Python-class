{
 "cells": [
  {
   "cell_type": "markdown",
   "id": "a2179962",
   "metadata": {},
   "source": [
    "## Types of variables in class\n",
    "In Python, when you create a class, you can define various types of variables within the class. These variables can be broadly categorized into two types: class variables and instance variables."
   ]
  },
  {
   "cell_type": "raw",
   "id": "0fe0da84",
   "metadata": {},
   "source": [
    "Class Variables:\n",
    "\n",
    "1.Class variables are shared among all instances of a class.\n",
    "2.They are defined outside any method in the class and are typically placed at the top of the class definition.\n",
    "3.They are accessed using the class name, not the instance name.\n",
    "4.Class variables are often used to store data that is shared among all instances of a class."
   ]
  },
  {
   "cell_type": "code",
   "execution_count": null,
   "id": "1def1d1b",
   "metadata": {},
   "outputs": [],
   "source": [
    "class MyClass:\n",
    "    class_variable = \"I am a class variable\"\n",
    "\n",
    "# Accessing class variable\n",
    "print(MyClass.class_variable)\n"
   ]
  },
  {
   "cell_type": "raw",
   "id": "280ce326",
   "metadata": {},
   "source": [
    "Instance Variables:\n",
    "\n",
    "1.Instance variables are unique to each instance of a class.\n",
    "2.They are defined inside the constructor method (__init__) using the self keyword.\n",
    "3.Each instance of the class can have different values for instance variables.\n",
    "4.Instance variables are used to store data that varies from one instance to another."
   ]
  },
  {
   "cell_type": "code",
   "execution_count": null,
   "id": "269184c0",
   "metadata": {},
   "outputs": [],
   "source": [
    "class MyClass:\n",
    "    def __init__(self, instance_variable):\n",
    "        self.instance_variable = instance_variable\n",
    "\n",
    "# Creating instances and accessing instance variables\n",
    "obj1 = MyClass(\"I am an instance variable for obj1\")\n",
    "obj2 = MyClass(\"I am an instance variable for obj2\")\n",
    "\n",
    "print(obj1.instance_variable)\n",
    "print(obj2.instance_variable)\n"
   ]
  }
 ],
 "metadata": {
  "kernelspec": {
   "display_name": "Python 3 (ipykernel)",
   "language": "python",
   "name": "python3"
  },
  "language_info": {
   "codemirror_mode": {
    "name": "ipython",
    "version": 3
   },
   "file_extension": ".py",
   "mimetype": "text/x-python",
   "name": "python",
   "nbconvert_exporter": "python",
   "pygments_lexer": "ipython3",
   "version": "3.9.7"
  }
 },
 "nbformat": 4,
 "nbformat_minor": 5
}
