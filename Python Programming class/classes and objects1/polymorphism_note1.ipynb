{
 "cells": [
  {
   "cell_type": "markdown",
   "id": "97961c5d",
   "metadata": {},
   "source": [
    "## Polymorphism in addition operator\n",
    "We know that the + operator is used extensively in Python programs. But, it does not have a single usage.\n",
    "\n",
    "For integer data types, + operator is used to perform arithmetic addition operation."
   ]
  },
  {
   "cell_type": "code",
   "execution_count": null,
   "id": "636e6984",
   "metadata": {},
   "outputs": [],
   "source": [
    "num1 = 1\n",
    "num2 = 2\n",
    "print(num1+num2)\n"
   ]
  },
  {
   "cell_type": "code",
   "execution_count": null,
   "id": "682dcf9a",
   "metadata": {},
   "outputs": [],
   "source": [
    "Similarly, for string data types, + operator is used to perform concatenation\n",
    "str1 = \"Python\"\n",
    "str2 = \"Programming\"\n",
    "print(str1+\" \"+str2)"
   ]
  },
  {
   "cell_type": "raw",
   "id": "5463bf7d",
   "metadata": {},
   "source": [
    "As a result, the above program outputs Python Programming.\n",
    "\n",
    "Here, we can see that a single operator + has been used to carry out different operations for distinct data types. \n",
    "This is one of the most simple occurrences of polymorphism in Python."
   ]
  },
  {
   "cell_type": "markdown",
   "id": "bf835bd1",
   "metadata": {},
   "source": [
    "## Function Polymorphism in Python\n",
    "There are some functions in Python which are compatible to run with multiple data types.\n",
    "\n",
    "One such function is the len() function. It can run with many data types in Python. Let's look at some example use cases of the function."
   ]
  },
  {
   "cell_type": "code",
   "execution_count": 1,
   "id": "e6488c91",
   "metadata": {},
   "outputs": [
    {
     "name": "stdout",
     "output_type": "stream",
     "text": [
      "9\n",
      "3\n",
      "2\n"
     ]
    }
   ],
   "source": [
    "#Polymorphic len() function\n",
    "print(len(\"Programiz\"))\n",
    "print(len([\"Python\", \"Java\", \"C\"]))\n",
    "print(len({\"Name\": \"John\", \"Address\": \"Nepal\"}))\n"
   ]
  },
  {
   "cell_type": "markdown",
   "id": "5e88d673",
   "metadata": {},
   "source": [
    "Here, we can see that many data types such as string, list, tuple, set, and dictionary can work with the len() function. \n",
    "However, we can see that it returns specific information about specific data types."
   ]
  },
  {
   "cell_type": "markdown",
   "id": "1f2a64ab",
   "metadata": {},
   "source": [
    "# Class Polymorphism in Python\n",
    "Polymorphism is a very important concept in Object-Oriented Programming.\n",
    "\n",
    "To learn more about OOP in Python, visit: Python Object-Oriented Programming\n",
    "\n",
    "We can use the concept of polymorphism while creating class methods as Python allows different classes to have methods with the same name.\n",
    "\n",
    "We can then later generalize calling these methods by disregarding the object we are working with. Let's look at an example:"
   ]
  },
  {
   "cell_type": "markdown",
   "id": "e7f33da5",
   "metadata": {},
   "source": [
    "## Polymorphism in Class Methods\n"
   ]
  },
  {
   "cell_type": "code",
   "execution_count": 4,
   "id": "7686bf96",
   "metadata": {},
   "outputs": [
    {
     "name": "stdout",
     "output_type": "stream",
     "text": [
      "Meow\n",
      "I am a cat. My name is Kitty. I am 2.5 years old.\n",
      "Meow\n",
      "Bark\n",
      "I am a dog. My name is Fluffy. I am 4 years old.\n",
      "Bark\n"
     ]
    }
   ],
   "source": [
    "class Cat:\n",
    "    def __init__(self, name, age):\n",
    "        self.name = name\n",
    "        self.age = age\n",
    "\n",
    "    def info(self):\n",
    "        print(f\"I am a cat. My name is {self.name}. I am {self.age} years old.\")\n",
    "\n",
    "    def make_sound(self):\n",
    "        print(\"Meow\")\n",
    "\n",
    "\n",
    "class Dog:\n",
    "    def __init__(self, name, age):\n",
    "        self.name = name\n",
    "        self.age = age\n",
    "\n",
    "    def info(self):\n",
    "        print(f\"I am a dog. My name is {self.name}. I am {self.age} years old.\")\n",
    "\n",
    "    def make_sound(self):\n",
    "        print(\"Bark\")\n",
    "\n",
    "\n",
    "cat1 = Cat(\"Kitty\", 2.5)\n",
    "dog1 = Dog(\"Fluffy\", 4)\n",
    "\n",
    "for animal in (cat1, dog1):\n",
    "    animal.make_sound()\n",
    "    animal.info()\n",
    "    animal.make_sound()\n",
    "\n"
   ]
  },
  {
   "cell_type": "raw",
   "id": "2a92f938",
   "metadata": {},
   "source": [
    "Here, we have created two classes Cat and Dog. They share a similar structure and have the same method names info() and make_sound().\n",
    "\n",
    "However, notice that we have not created a common superclass or linked the classes together in any way. Even then, we can pack these two different objects into \n",
    "a tuple and iterate through it using a common animal variable. It is possible due to polymorphism."
   ]
  },
  {
   "cell_type": "code",
   "execution_count": null,
   "id": "86b27970",
   "metadata": {},
   "outputs": [],
   "source": []
  },
  {
   "cell_type": "markdown",
   "id": "f02a9d36",
   "metadata": {},
   "source": [
    "# Method Overriding\n",
    "\n",
    "Like in other programming languages, the child classes in Python also inherit methods and attributes from the parent class. We can redefine certain methods and attributes specifically to fit the child class, which is known as Method Overriding.\n",
    "\n",
    "Polymorphism allows us to access these overridden methods and attributes that have the same name as the parent class.\n",
    "\n",
    "Let's look at an example:"
   ]
  },
  {
   "cell_type": "code",
   "execution_count": 7,
   "id": "248bc124",
   "metadata": {},
   "outputs": [
    {
     "name": "stdout",
     "output_type": "stream",
     "text": [
      "I am in the son's class\n"
     ]
    }
   ],
   "source": [
    "class grandfather:\n",
    "    def display(self):\n",
    "        print(\"I am in the Grandfather's class\")\n",
    "class father(grandfather):\n",
    "    def display(self):\n",
    "        #super().display()\n",
    "        print(\"I am in the father's class\")\n",
    "class son(father):\n",
    "    def display(self):\n",
    "        #super().display()\n",
    "        print(\"I am in the son's class\")\n",
    "s=son()\n",
    "\n",
    "s.display()\n",
    "    "
   ]
  },
  {
   "cell_type": "markdown",
   "id": "81c883d0",
   "metadata": {},
   "source": [
    "# Concept of Duck Typing\n",
    "Earlier, we have discussed that Python is a dynamic typed language. However, \n",
    "we can use the dynamic approach with custom data types. Let's understand the following example.\n",
    "It is a popular term in Python, and it comes from saying, \"If it walks like duck, swims like duck, looks like a duck, then it probably should be a duck.\""
   ]
  },
  {
   "cell_type": "code",
   "execution_count": 8,
   "id": "d544de1a",
   "metadata": {},
   "outputs": [
    {
     "name": "stdout",
     "output_type": "stream",
     "text": [
      "I'm a duck, and I can swim.\n",
      "I'm a sparrow, and I can swim.\n",
      "I'm a Crocodile, and I can swim, but not quack.\n"
     ]
    }
   ],
   "source": [
    "#2.Example \n",
    "class Duck:  \n",
    "   def swim(self):  \n",
    "         print(\"I'm a duck, and I can swim.\")  \n",
    "   \n",
    "class Sparrow:  \n",
    "     def swim(self):  \n",
    "         print(\"I'm a sparrow, and I can swim.\")  \n",
    "   \n",
    "class Crocodile:  \n",
    "     def swim(self):  \n",
    "         print(\"I'm a Crocodile, and I can swim, but not quack.\")  \n",
    "   \n",
    "def duck_testing(animal):  \n",
    "     animal.swim()  \n",
    "       \n",
    "       \n",
    "duck_testing(Duck())  \n",
    "duck_testing(Sparrow())  \n",
    "duck_testing(Crocodile())  "
   ]
  },
  {
   "cell_type": "raw",
   "id": "27967fbf",
   "metadata": {},
   "source": [
    "In the above code, the Duck class's instance is reflected by calling the duck_testing function. It also happens with the Sparrow class, which implements the swim() function. But in the case of the Crocodile class, \n",
    "it fails the duck testing evaluation because it doesn't implement the swim() function."
   ]
  }
 ],
 "metadata": {
  "kernelspec": {
   "display_name": "Python 3 (ipykernel)",
   "language": "python",
   "name": "python3"
  },
  "language_info": {
   "codemirror_mode": {
    "name": "ipython",
    "version": 3
   },
   "file_extension": ".py",
   "mimetype": "text/x-python",
   "name": "python",
   "nbconvert_exporter": "python",
   "pygments_lexer": "ipython3",
   "version": "3.9.7"
  }
 },
 "nbformat": 4,
 "nbformat_minor": 5
}
