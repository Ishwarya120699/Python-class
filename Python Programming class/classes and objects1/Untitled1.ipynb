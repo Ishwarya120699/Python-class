{
 "cells": [
  {
   "cell_type": "markdown",
   "id": "d3e1fe6c",
   "metadata": {},
   "source": [
    "## Polymorphism in addition operator\n",
    "We know that the + operator is used extensively in Python programs. But, it does not have a single usage.\n",
    "\n",
    "For integer data types, + operator is used to perform arithmetic addition operation."
   ]
  },
  {
   "cell_type": "code",
   "execution_count": null,
   "id": "686552c3",
   "metadata": {},
   "outputs": [],
   "source": [
    "num1 = 1\n",
    "num2 = 2\n",
    "print(num1+num2)\n"
   ]
  },
  {
   "cell_type": "code",
   "execution_count": null,
   "id": "eb6a7ba8",
   "metadata": {},
   "outputs": [],
   "source": [
    "Similarly, for string data types, + operator is used to perform concatenation\n",
    "str1 = \"Python\"\n",
    "str2 = \"Programming\"\n",
    "print(str1+\" \"+str2)"
   ]
  },
  {
   "cell_type": "raw",
   "id": "34757a0f",
   "metadata": {},
   "source": [
    "As a result, the above program outputs Python Programming.\n",
    "\n",
    "Here, we can see that a single operator + has been used to carry out different operations for distinct data types. \n",
    "This is one of the most simple occurrences of polymorphism in Python."
   ]
  },
  {
   "cell_type": "markdown",
   "id": "856263d3",
   "metadata": {},
   "source": [
    "## Function Polymorphism in Python\n",
    "There are some functions in Python which are compatible to run with multiple data types.\n",
    "\n",
    "One such function is the len() function. It can run with many data types in Python. Let's look at some example use cases of the function."
   ]
  },
  {
   "cell_type": "code",
   "execution_count": null,
   "id": "5815e5bc",
   "metadata": {},
   "outputs": [],
   "source": [
    "Polymorphic len() function\n",
    "print(len(\"Programiz\"))\n",
    "print(len([\"Python\", \"Java\", \"C\"]))\n",
    "print(len({\"Name\": \"John\", \"Address\": \"Nepal\"}))\n"
   ]
  },
  {
   "cell_type": "code",
   "execution_count": null,
   "id": "59395bed",
   "metadata": {},
   "outputs": [],
   "source": [
    "Here, we can see that many data types such as string, list, tuple, set, and dictionary can work with the len() function. \n",
    "However, we can see that it returns specific information about specific data types."
   ]
  },
  {
   "cell_type": "markdown",
   "id": "270daebd",
   "metadata": {},
   "source": [
    "# Class Polymorphism in Python\n",
    "Polymorphism is a very important concept in Object-Oriented Programming.\n",
    "\n",
    "To learn more about OOP in Python, visit: Python Object-Oriented Programming\n",
    "\n",
    "We can use the concept of polymorphism while creating class methods as Python allows different classes to have methods with the same name.\n",
    "\n",
    "We can then later generalize calling these methods by disregarding the object we are working with. Let's look at an example:"
   ]
  },
  {
   "cell_type": "markdown",
   "id": "3ae87a2a",
   "metadata": {},
   "source": [
    "## Polymorphism in Class Methods\n"
   ]
  },
  {
   "cell_type": "code",
   "execution_count": null,
   "id": "f04d7601",
   "metadata": {},
   "outputs": [],
   "source": [
    "class Cat:\n",
    "    def __init__(self, name, age):\n",
    "        self.name = name\n",
    "        self.age = age\n",
    "\n",
    "    def info(self):\n",
    "        print(f\"I am a cat. My name is {self.name}. I am {self.age} years old.\")\n",
    "\n",
    "    def make_sound(self):\n",
    "        print(\"Meow\")\n",
    "\n",
    "\n",
    "class Dog:\n",
    "    def __init__(self, name, age):\n",
    "        self.name = name\n",
    "        self.age = age\n",
    "\n",
    "    def info(self):\n",
    "        print(f\"I am a dog. My name is {self.name}. I am {self.age} years old.\")\n",
    "\n",
    "    def make_sound(self):\n",
    "        print(\"Bark\")\n",
    "\n",
    "\n",
    "cat1 = Cat(\"Kitty\", 2.5)\n",
    "dog1 = Dog(\"Fluffy\", 4)\n",
    "\n",
    "for animal in (cat1, dog1):\n",
    "    animal.make_sound()\n",
    "    animal.info()\n",
    "    animal.make_sound()\n"
   ]
  },
  {
   "cell_type": "raw",
   "id": "e40e51b5",
   "metadata": {},
   "source": [
    "Here, we have created two classes Cat and Dog. They share a similar structure and have the same method names info() and make_sound().\n",
    "\n",
    "However, notice that we have not created a common superclass or linked the classes together in any way. Even then, we can pack these two different objects into \n",
    "a tuple and iterate through it using a common animal variable. It is possible due to polymorphism."
   ]
  },
  {
   "cell_type": "markdown",
   "id": "b6c04ccd",
   "metadata": {},
   "source": [
    "# Method Overriding\n",
    "\n",
    "Like in other programming languages, the child classes in Python also inherit methods and attributes from the parent class. We can redefine certain methods and attributes specifically to fit the child class, which is known as Method Overriding.\n",
    "\n",
    "Polymorphism allows us to access these overridden methods and attributes that have the same name as the parent class.\n",
    "\n",
    "Let's look at an example:"
   ]
  },
  {
   "cell_type": "code",
   "execution_count": null,
   "id": "0ad1ffeb",
   "metadata": {},
   "outputs": [],
   "source": [
    "from math import pi\n",
    "\n",
    "\n",
    "class Shape:\n",
    "    def __init__(self, name):\n",
    "        self.name = name\n",
    "\n",
    "    def area(self):\n",
    "        pass\n",
    "\n",
    "    def fact(self):\n",
    "        return \"I am a two-dimensional shape.\"\n",
    "\n",
    "    def __str__(self):\n",
    "        return self.name\n",
    "\n",
    "\n",
    "class Square(Shape):\n",
    "    def __init__(self, length):\n",
    "        super().__init__(\"Square\")\n",
    "        self.length = length\n",
    "\n",
    "    def area(self):\n",
    "        return self.length**2\n",
    "\n",
    "    def fact(self):\n",
    "        return \"Squares have each angle equal to 90 degrees.\"\n",
    "\n",
    "\n",
    "class Circle(Shape):\n",
    "    def __init__(self, radius):\n",
    "        super().__init__(\"Circle\")\n",
    "        self.radius = radius\n",
    "\n",
    "    def area(self):\n",
    "        return pi*self.radius**2\n",
    "\n",
    "\n",
    "a = Square(4)\n",
    "b = Circle(7)\n",
    "print(b)\n",
    "print(b.fact())\n",
    "print(a.fact())\n",
    "print(b.area())\n"
   ]
  },
  {
   "cell_type": "raw",
   "id": "d3245f08",
   "metadata": {},
   "source": [
    "Here, we can see that the methods such as __str__(), which have not been overridden in the child classes, are used from the parent class.\n",
    "\n",
    "Due to polymorphism, the Python interpreter automatically recognizes that the fact() method for object a(Square class) is overridden. So, it uses the one defined in the child class.\n",
    "\n",
    "On the other hand, since the fact() method for object b isn't overridden, it is used from the Parent Shape class"
   ]
  }
 ],
 "metadata": {
  "kernelspec": {
   "display_name": "Python 3 (ipykernel)",
   "language": "python",
   "name": "python3"
  },
  "language_info": {
   "codemirror_mode": {
    "name": "ipython",
    "version": 3
   },
   "file_extension": ".py",
   "mimetype": "text/x-python",
   "name": "python",
   "nbconvert_exporter": "python",
   "pygments_lexer": "ipython3",
   "version": "3.9.7"
  }
 },
 "nbformat": 4,
 "nbformat_minor": 5
}
