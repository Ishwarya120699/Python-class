{
 "cells": [
  {
   "cell_type": "markdown",
   "id": "a18be9e9",
   "metadata": {},
   "source": [
    "## Types of variables in class\n",
    "In Python, when you create a class, you can define various types of variables within the class. These variables can be broadly categorized into two types: class variables and instance variables."
   ]
  },
  {
   "cell_type": "raw",
   "id": "d55c199e",
   "metadata": {},
   "source": [
    "Class Variables:\n",
    "\n",
    "1.Class variables are shared among all instances of a class.\n",
    "2.They are defined outside any method in the class and are typically placed at the top of the class definition.\n",
    "3.They are accessed using the class name, not the instance name.\n",
    "4.Class variables are often used to store data that is shared among all instances of a class."
   ]
  },
  {
   "cell_type": "code",
   "execution_count": null,
   "id": "91c86b21",
   "metadata": {},
   "outputs": [],
   "source": []
  }
 ],
 "metadata": {
  "kernelspec": {
   "display_name": "Python 3 (ipykernel)",
   "language": "python",
   "name": "python3"
  },
  "language_info": {
   "codemirror_mode": {
    "name": "ipython",
    "version": 3
   },
   "file_extension": ".py",
   "mimetype": "text/x-python",
   "name": "python",
   "nbconvert_exporter": "python",
   "pygments_lexer": "ipython3",
   "version": "3.9.7"
  }
 },
 "nbformat": 4,
 "nbformat_minor": 5
}
