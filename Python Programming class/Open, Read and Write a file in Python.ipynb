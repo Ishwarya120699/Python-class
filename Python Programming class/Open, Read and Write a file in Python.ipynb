{
 "cells": [
  {
   "cell_type": "code",
   "execution_count": null,
   "id": "136c8bfa",
   "metadata": {},
   "outputs": [],
   "source": [
    "#Example 1: Read CSV files with csv.reader()\n",
    "#Suppose we have a CSV file with the following entries:"
   ]
  },
  {
   "cell_type": "code",
   "execution_count": null,
   "id": "f4edfdbb",
   "metadata": {},
   "outputs": [],
   "source": [
    "#SN,Name,Contribution\n",
    "#1,Linus Torvalds,Linux Kernel\n",
    "#2,Tim Berners-Lee,World Wide Web\n",
    "#3,Guido van Rossum,Python Programming"
   ]
  },
  {
   "cell_type": "code",
   "execution_count": 5,
   "id": "96d8989f",
   "metadata": {},
   "outputs": [],
   "source": [
    "import csv\n"
   ]
  },
  {
   "cell_type": "code",
   "execution_count": 1,
   "id": "a5d642f3",
   "metadata": {},
   "outputs": [
    {
     "name": "stdout",
     "output_type": "stream",
     "text": [
      "Name ,Salary,Phone Number\n",
      "John,20000,8074567894\n",
      "Madhan,30000,9723456783\n",
      "Ram,15000,9934567823\n",
      "Sam,22000,9234589768\n",
      "\n"
     ]
    }
   ],
   "source": [
    "f = open(r\"D:\\Python_class\\test_file.csv\", \"r\") \n",
    "t = f.read()\n",
    "print(t)"
   ]
  },
  {
   "cell_type": "code",
   "execution_count": 25,
   "id": "71804e87",
   "metadata": {},
   "outputs": [
    {
     "name": "stdout",
     "output_type": "stream",
     "text": [
      "Name ,Salary,Phone Number\n",
      "John,20000,8074567894\n",
      "Madhan,30000,9723456783\n",
      "Ram,15000,9934567823\n",
      "Sam,22000,9234589768\n",
      "\n"
     ]
    }
   ],
   "source": [
    "with open(r\"D:\\Python_class\\test_file.csv\", \"r\") as f:\n",
    "    t = f.read()\n",
    "    print(t)\n",
    "    f.close()"
   ]
  },
  {
   "cell_type": "code",
   "execution_count": 2,
   "id": "265bd36f",
   "metadata": {},
   "outputs": [
    {
     "name": "stdout",
     "output_type": "stream",
     "text": [
      "Name ,Salary,Phone\n"
     ]
    }
   ],
   "source": [
    "with open(r\"D:\\Python_class\\test_file.csv\", \"r\") as f:\n",
    "    print(f.read(18))\n",
    "    f.close()"
   ]
  },
  {
   "cell_type": "code",
   "execution_count": 27,
   "id": "7203c461",
   "metadata": {},
   "outputs": [
    {
     "name": "stdout",
     "output_type": "stream",
     "text": [
      "Name ,\n",
      "Salary,Phone\n"
     ]
    }
   ],
   "source": [
    "f = open(r\"D:\\Python_class\\test_file.csv\", \"r\") \n",
    "t = f.read(6)\n",
    "print(t)\n",
    "s = f.read(12)\n",
    "print(s)"
   ]
  },
  {
   "cell_type": "code",
   "execution_count": null,
   "id": "27930880",
   "metadata": {},
   "outputs": [],
   "source": [
    "##Important Points\n",
    "#If a file doesn't exists new file is created \n",
    "#If the file already exists, it is overwritten"
   ]
  },
  {
   "cell_type": "code",
   "execution_count": 3,
   "id": "61f69f6d",
   "metadata": {},
   "outputs": [],
   "source": [
    "with open(\"D:\\Python_class\\python3.txt\",\"w\") as f:\n",
    "    f.write(\"I Love Python\")\n",
    "    f.write(\"Python Programming\")"
   ]
  },
  {
   "cell_type": "code",
   "execution_count": null,
   "id": "46fa6cb4",
   "metadata": {},
   "outputs": [],
   "source": [
    "#Adding additional line to the file"
   ]
  },
  {
   "cell_type": "code",
   "execution_count": 4,
   "id": "0e490398",
   "metadata": {},
   "outputs": [],
   "source": [
    "with open(\"D:\\Python_class\\python3.txt\",\"a\") as f:\n",
    "    f.write(\"\\nMy favourite programming language is Python\")"
   ]
  },
  {
   "cell_type": "code",
   "execution_count": 4,
   "id": "e2677149",
   "metadata": {},
   "outputs": [],
   "source": [
    "#readlines() print in list"
   ]
  },
  {
   "cell_type": "code",
   "execution_count": 30,
   "id": "4ea28bec",
   "metadata": {},
   "outputs": [
    {
     "name": "stdout",
     "output_type": "stream",
     "text": [
      "['I Love PythonPython Programming\\n', 'My favourite programming language is Python']\n"
     ]
    }
   ],
   "source": [
    "with open(\"D:\\Python_class\\python.txt\",\"r\") as f:\n",
    "    lines = f.readlines()\n",
    "    print(lines)"
   ]
  },
  {
   "cell_type": "code",
   "execution_count": null,
   "id": "acc8e462",
   "metadata": {},
   "outputs": [],
   "source": []
  }
 ],
 "metadata": {
  "kernelspec": {
   "display_name": "Python 3 (ipykernel)",
   "language": "python",
   "name": "python3"
  },
  "language_info": {
   "codemirror_mode": {
    "name": "ipython",
    "version": 3
   },
   "file_extension": ".py",
   "mimetype": "text/x-python",
   "name": "python",
   "nbconvert_exporter": "python",
   "pygments_lexer": "ipython3",
   "version": "3.9.7"
  }
 },
 "nbformat": 4,
 "nbformat_minor": 5
}
