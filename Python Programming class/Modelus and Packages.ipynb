{
 "cells": [
  {
   "cell_type": "markdown",
   "id": "519cacf9",
   "metadata": {},
   "source": [
    "# Python Modules and Packages"
   ]
  },
  {
   "cell_type": "raw",
   "id": "42b55d84",
   "metadata": {},
   "source": [
    "\n",
    "In Python, modules and packages are mechanisms for organizing and structuring code in a hierarchical and reusable way."
   ]
  },
  {
   "cell_type": "raw",
   "id": "d4abf498",
   "metadata": {},
   "source": [
    "A module is a single Python file containing functions, classes, and variables. \n",
    "It allows you to logically organize your Python code. You can create your own modules or use existing ones. \n",
    "To use a module in your code, you need to import it using the import keyword."
   ]
  },
  {
   "cell_type": "code",
   "execution_count": null,
   "id": "b192e734",
   "metadata": {},
   "outputs": [],
   "source": [
    "#Save this code in a file named egmodule.py\n",
    "def greeting(name):\n",
    "  print(\"Hello, \" + name)"
   ]
  },
  {
   "cell_type": "markdown",
   "id": "10dd3a36",
   "metadata": {},
   "source": [
    "### Use a Module\n",
    "Now we can use the module we just created, by using the import statement:"
   ]
  },
  {
   "cell_type": "code",
   "execution_count": null,
   "id": "7248e74c",
   "metadata": {},
   "outputs": [],
   "source": [
    "#Import the module named mymodule, and call the greeting function:\n",
    "\n",
    "import egmodule\n",
    "\n",
    "egmodule.greeting(\"Raju\")"
   ]
  },
  {
   "cell_type": "markdown",
   "id": "c40cad95",
   "metadata": {},
   "source": [
    "### Variables in Module\n",
    "The module can contain functions, as already described, but also variables of all types (arrays, dictionaries, objects etc):"
   ]
  },
  {
   "cell_type": "code",
   "execution_count": 1,
   "id": "249e4747",
   "metadata": {},
   "outputs": [],
   "source": [
    "#Save this code in the file egmodule.py\n",
    "\n",
    "person1 = {\n",
    "  \"name\": \"Ram\",\n",
    "  \"age\": 36,\n",
    "  \"country\": \"TamilNadu\"\n",
    "}"
   ]
  },
  {
   "cell_type": "code",
   "execution_count": 2,
   "id": "1d1c6a82",
   "metadata": {},
   "outputs": [
    {
     "ename": "ModuleNotFoundError",
     "evalue": "No module named 'egmodule'",
     "output_type": "error",
     "traceback": [
      "\u001b[1;31m---------------------------------------------------------------------------\u001b[0m",
      "\u001b[1;31mModuleNotFoundError\u001b[0m                       Traceback (most recent call last)",
      "\u001b[1;32mC:\\Users\\ADMINI~1\\AppData\\Local\\Temp/ipykernel_51260/1105929321.py\u001b[0m in \u001b[0;36m<module>\u001b[1;34m\u001b[0m\n\u001b[0;32m      1\u001b[0m \u001b[1;31m#Import the module named egmodule, and access the person1 dictionary:\u001b[0m\u001b[1;33m\u001b[0m\u001b[1;33m\u001b[0m\u001b[0m\n\u001b[0;32m      2\u001b[0m \u001b[1;33m\u001b[0m\u001b[0m\n\u001b[1;32m----> 3\u001b[1;33m \u001b[1;32mimport\u001b[0m \u001b[0megmodule\u001b[0m\u001b[1;33m\u001b[0m\u001b[1;33m\u001b[0m\u001b[0m\n\u001b[0m\u001b[0;32m      4\u001b[0m \u001b[1;33m\u001b[0m\u001b[0m\n\u001b[0;32m      5\u001b[0m \u001b[0ma\u001b[0m \u001b[1;33m=\u001b[0m \u001b[0megmodule\u001b[0m\u001b[1;33m.\u001b[0m\u001b[0mperson1\u001b[0m\u001b[1;33m[\u001b[0m\u001b[1;34m\"age\"\u001b[0m\u001b[1;33m]\u001b[0m\u001b[1;33m\u001b[0m\u001b[1;33m\u001b[0m\u001b[0m\n",
      "\u001b[1;31mModuleNotFoundError\u001b[0m: No module named 'egmodule'"
     ]
    }
   ],
   "source": [
    "#Import the module named egmodule, and access the person1 dictionary:\n",
    "\n",
    "import egmodule\n",
    "\n",
    "a = egmodule.person1[\"age\"]\n",
    "print(a)"
   ]
  },
  {
   "cell_type": "markdown",
   "id": "b58a3534",
   "metadata": {},
   "source": [
    "### Naming a Module\n",
    "You can name the module file whatever you like, but it must have the file extension .py"
   ]
  },
  {
   "cell_type": "markdown",
   "id": "4ee0e990",
   "metadata": {},
   "source": [
    "### Re-naming a Module\n",
    "You can create an alias when you import a module, by using the as keyword:"
   ]
  },
  {
   "cell_type": "code",
   "execution_count": null,
   "id": "290532ba",
   "metadata": {},
   "outputs": [],
   "source": [
    "#Create an alias for egmodule called eg:\n",
    "\n",
    "import egmodule as eg\n",
    "\n",
    "a = eg.person1[\"age\"]\n",
    "print(a)"
   ]
  },
  {
   "cell_type": "markdown",
   "id": "52576a35",
   "metadata": {},
   "source": [
    "### Built-in Modules\n",
    "There are several built-in modules in Python, which you can import whenever you like."
   ]
  },
  {
   "cell_type": "code",
   "execution_count": 1,
   "id": "7a575627",
   "metadata": {},
   "outputs": [
    {
     "name": "stdout",
     "output_type": "stream",
     "text": [
      "3.9.7\n"
     ]
    }
   ],
   "source": [
    "#Import and use the platform module:\n",
    "\n",
    "import platform\n",
    "\n",
    "x = platform.python_version()\n",
    "print(x)"
   ]
  },
  {
   "cell_type": "markdown",
   "id": "0e3060eb",
   "metadata": {},
   "source": [
    "### Using the dir() Function\n",
    "There is a built-in function to list all the function names (or variable names) in a module. The dir() function:"
   ]
  },
  {
   "cell_type": "code",
   "execution_count": 4,
   "id": "f400fd1f",
   "metadata": {},
   "outputs": [
    {
     "name": "stdout",
     "output_type": "stream",
     "text": [
      "['_Processor', '_WIN32_CLIENT_RELEASES', '_WIN32_SERVER_RELEASES', '__builtins__', '__cached__', '__copyright__', '__doc__', '__file__', '__loader__', '__name__', '__package__', '__spec__', '__version__', '_comparable_version', '_component_re', '_default_architecture', '_follow_symlinks', '_get_machine_win32', '_ironpython26_sys_version_parser', '_ironpython_sys_version_parser', '_java_getprop', '_libc_search', '_mac_ver_xml', '_node', '_norm_version', '_platform', '_platform_cache', '_pypy_sys_version_parser', '_sys_version', '_sys_version_cache', '_sys_version_parser', '_syscmd_file', '_syscmd_ver', '_uname_cache', '_unknown_as_blank', '_ver_output', '_ver_stages', 'architecture', 'collections', 'functools', 'itertools', 'java_ver', 'libc_ver', 'mac_ver', 'machine', 'node', 'os', 'platform', 'processor', 'python_branch', 'python_build', 'python_compiler', 'python_implementation', 'python_revision', 'python_version', 'python_version_tuple', 're', 'release', 'subprocess', 'sys', 'system', 'system_alias', 'uname', 'uname_result', 'version', 'win32_edition', 'win32_is_iot', 'win32_ver']\n"
     ]
    }
   ],
   "source": [
    "#List all the defined names belonging to the platform module:\n",
    "\n",
    "import platform\n",
    "\n",
    "x = dir(platform)\n",
    "print(x)"
   ]
  },
  {
   "cell_type": "code",
   "execution_count": 3,
   "id": "90805b92",
   "metadata": {},
   "outputs": [
    {
     "name": "stdout",
     "output_type": "stream",
     "text": [
      "['__add__', '__class__', '__delattr__', '__dir__', '__doc__', '__eq__', '__format__', '__ge__', '__getattribute__', '__gt__', '__hash__', '__init__', '__init_subclass__', '__le__', '__lt__', '__ne__', '__new__', '__radd__', '__reduce__', '__reduce_ex__', '__repr__', '__rsub__', '__setattr__', '__sizeof__', '__str__', '__sub__', '__subclasshook__', 'astimezone', 'combine', 'ctime', 'date', 'day', 'dst', 'fold', 'fromisocalendar', 'fromisoformat', 'fromordinal', 'fromtimestamp', 'hour', 'isocalendar', 'isoformat', 'isoweekday', 'max', 'microsecond', 'min', 'minute', 'month', 'now', 'replace', 'resolution', 'second', 'strftime', 'strptime', 'time', 'timestamp', 'timetuple', 'timetz', 'today', 'toordinal', 'tzinfo', 'tzname', 'utcfromtimestamp', 'utcnow', 'utcoffset', 'utctimetuple', 'weekday', 'year']\n"
     ]
    }
   ],
   "source": [
    "#Example 2:\n",
    "#Provides classes for working with dates and times.\n",
    "from datetime import datetime\n",
    "\n",
    "current_time = dir(datetime)\n",
    "print(current_time)"
   ]
  },
  {
   "cell_type": "code",
   "execution_count": 7,
   "id": "5e72e719",
   "metadata": {},
   "outputs": [
    {
     "name": "stdout",
     "output_type": "stream",
     "text": [
      "b'<!doctype html>\\n<html>\\n<head>\\n    <title>Example Domain</title>\\n\\n    <meta charset=\"utf-8\" />\\n    <meta http-equiv=\"Content-type\" content=\"text/html; charset=utf-8\" />\\n    <meta name=\"viewport\" content=\"width=device-width, initial-scale=1\" />\\n    <style type=\"text/css\">\\n    body {\\n        background-color: #f0f0f2;\\n        margin: 0;\\n        padding: 0;\\n        font-family: -apple-system, system-ui, BlinkMacSystemFont, \"Segoe UI\", \"Open Sans\", \"Helvetica Neue\", Helvetica, Arial, sans-serif;\\n        \\n    }\\n    div {\\n        width: 600px;\\n        margin: 5em auto;\\n        padding: 2em;\\n        background-color: #fdfdff;\\n        border-radius: 0.5em;\\n        box-shadow: 2px 3px 7px 2px rgba(0,0,0,0.02);\\n    }\\n    a:link, a:visited {\\n        color: #38488f;\\n        text-decoration: none;\\n    }\\n    @media (max-width: 700px) {\\n        div {\\n            margin: 0 auto;\\n            width: auto;\\n        }\\n    }\\n    </style>    \\n</head>\\n\\n<body>\\n<div>\\n    <h1>Example Domain</h1>\\n    <p>This domain is for use in illustrative examples in documents. You may use this\\n    domain in literature without prior coordination or asking for permission.</p>\\n    <p><a href=\"https://www.iana.org/domains/example\">More information...</a></p>\\n</div>\\n</body>\\n</html>\\n'\n"
     ]
    }
   ],
   "source": [
    "# urllib.request:\n",
    "#Provides a set of functions to open URLs.\n",
    "from urllib.request import urlopen\n",
    "\n",
    "response = urlopen('https://www.example.com')\n",
    "html_content = response.read()\n",
    "print(html_content)"
   ]
  },
  {
   "cell_type": "code",
   "execution_count": 10,
   "id": "4e25feac",
   "metadata": {},
   "outputs": [
    {
     "name": "stdout",
     "output_type": "stream",
     "text": [
      "30\n"
     ]
    }
   ],
   "source": [
    "#Provides methods to work with JSON data.\n",
    "import json\n",
    "\n",
    "data = '{\"name\": \"John\", \"age\": 30, \"city\": \"New York\"}'\n",
    "parsed_data = json.loads(data)\n",
    "print(parsed_data['age'])"
   ]
  },
  {
   "cell_type": "markdown",
   "id": "e51c656f",
   "metadata": {},
   "source": [
    "### Import From Module\n",
    "You can choose to import only parts from a module, by using the from keyword."
   ]
  },
  {
   "cell_type": "code",
   "execution_count": null,
   "id": "ef41bc57",
   "metadata": {},
   "outputs": [],
   "source": [
    "#The module named egmodule has one function and one dictionary:\n",
    "\n",
    "def greeting(name):\n",
    "  print(\"Hello, \" + name)\n",
    "\n",
    "person1 = {\n",
    "  \"name\": \"Ram\",\n",
    "  \"age\": 36,\n",
    "  \"country\": \"TamilNadu\"\n",
    "}"
   ]
  },
  {
   "cell_type": "code",
   "execution_count": null,
   "id": "41e246bd",
   "metadata": {},
   "outputs": [],
   "source": [
    "#Import only the person1 dictionary from the module:\n",
    "\n",
    "from egmodule import person1\n",
    "from egmodule import greeting\n",
    "\n",
    "print (person1[\"age\"])\n",
    "greeting(\"Raju\")"
   ]
  },
  {
   "cell_type": "markdown",
   "id": "f6922c98",
   "metadata": {},
   "source": [
    "# Python Packages\n",
    "### What is a Package?\n",
    "Definition: A package is a way of organizing related modules into a single directory hierarchy.\n",
    "Purpose: It helps in organizing and structuring large codebases, providing a modular and hierarchical structure."
   ]
  },
  {
   "cell_type": "code",
   "execution_count": null,
   "id": "741b5909",
   "metadata": {},
   "outputs": [],
   "source": []
  }
 ],
 "metadata": {
  "kernelspec": {
   "display_name": "Python 3 (ipykernel)",
   "language": "python",
   "name": "python3"
  },
  "language_info": {
   "codemirror_mode": {
    "name": "ipython",
    "version": 3
   },
   "file_extension": ".py",
   "mimetype": "text/x-python",
   "name": "python",
   "nbconvert_exporter": "python",
   "pygments_lexer": "ipython3",
   "version": "3.9.7"
  }
 },
 "nbformat": 4,
 "nbformat_minor": 5
}
