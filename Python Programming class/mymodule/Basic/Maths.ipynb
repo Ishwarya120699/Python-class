{
 "cells": [
  {
   "cell_type": "code",
   "execution_count": 1,
   "id": "f1db1c8f",
   "metadata": {},
   "outputs": [],
   "source": [
    "def add(a,b):\n",
    "    return \"The Sum = {}\".format(a+b)"
   ]
  },
  {
   "cell_type": "code",
   "execution_count": 2,
   "id": "14ea999f",
   "metadata": {},
   "outputs": [],
   "source": [
    "def sub(a,b):\n",
    "    return \"The Sum = {}\".format(a-b)"
   ]
  },
  {
   "cell_type": "code",
   "execution_count": 3,
   "id": "15fa4c78",
   "metadata": {},
   "outputs": [],
   "source": [
    "def multi(a,b):\n",
    "    return \"The Sum = {}\".format(a*b)"
   ]
  },
  {
   "cell_type": "code",
   "execution_count": 4,
   "id": "c7d350ec",
   "metadata": {},
   "outputs": [],
   "source": [
    "def div(a,b):\n",
    "    return \"The Sum = {}\".format(a/b)"
   ]
  },
  {
   "cell_type": "code",
   "execution_count": 5,
   "id": "6c0e8e59",
   "metadata": {},
   "outputs": [
    {
     "name": "stdout",
     "output_type": "stream",
     "text": [
      "The Sum = 50\n"
     ]
    }
   ],
   "source": [
    "print(add(20,30))"
   ]
  },
  {
   "cell_type": "code",
   "execution_count": null,
   "id": "5173920d",
   "metadata": {},
   "outputs": [],
   "source": []
  }
 ],
 "metadata": {
  "kernelspec": {
   "display_name": "Python 3 (ipykernel)",
   "language": "python",
   "name": "python3"
  },
  "language_info": {
   "codemirror_mode": {
    "name": "ipython",
    "version": 3
   },
   "file_extension": ".py",
   "mimetype": "text/x-python",
   "name": "python",
   "nbconvert_exporter": "python",
   "pygments_lexer": "ipython3",
   "version": "3.9.7"
  }
 },
 "nbformat": 4,
 "nbformat_minor": 5
}
