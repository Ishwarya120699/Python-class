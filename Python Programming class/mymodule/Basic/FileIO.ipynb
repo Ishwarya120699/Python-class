{
 "cells": [
  {
   "cell_type": "code",
   "execution_count": 4,
   "id": "24c95d47",
   "metadata": {},
   "outputs": [],
   "source": [
    "def open_file(path):\n",
    "    myf = open(path,encoding = \"utf-8\")\n",
    "    txt = myf.read()\n",
    "    myf.close()\n",
    "    return txt"
   ]
  },
  {
   "cell_type": "code",
   "execution_count": 9,
   "id": "0bfa1599",
   "metadata": {},
   "outputs": [],
   "source": [
    "def save_file(path,cnt):\n",
    "    myf = open(path, \"w\",encoding=\"utf-8\")\n",
    "    txt = myf.write('D:\\Python_class\\python installation guide.txt',)\n",
    "    myf.close()\n",
    "    return txt\n",
    "   "
   ]
  },
  {
   "cell_type": "code",
   "execution_count": 3,
   "id": "dd0a9de9",
   "metadata": {
    "scrolled": true
   },
   "outputs": [
    {
     "name": "stdout",
     "output_type": "stream",
     "text": [
      "1.python.org\n",
      "2.downloads\n",
      "3.latest version\n",
      "4.Add python.exe to path - enable\n",
      "5.All check box - enable\n",
      "6.Install python for all users - enable\n",
      "7.keep path and install\n",
      "8.close\n",
      "9.cmd\n",
      "10.python --version\n",
      "11.py\n",
      "12.print(\"\n",
      "name\")\n",
      "13.Type IDLE\n",
      "14.Save the file .  extension withm py\n"
     ]
    }
   ],
   "source": [
    "print(open_file('D:\\Python_class\\python installation guide.txt'))"
   ]
  },
  {
   "cell_type": "code",
   "execution_count": null,
   "id": "a1efe108",
   "metadata": {},
   "outputs": [],
   "source": []
  }
 ],
 "metadata": {
  "kernelspec": {
   "display_name": "Python 3 (ipykernel)",
   "language": "python",
   "name": "python3"
  },
  "language_info": {
   "codemirror_mode": {
    "name": "ipython",
    "version": 3
   },
   "file_extension": ".py",
   "mimetype": "text/x-python",
   "name": "python",
   "nbconvert_exporter": "python",
   "pygments_lexer": "ipython3",
   "version": "3.9.7"
  }
 },
 "nbformat": 4,
 "nbformat_minor": 5
}
