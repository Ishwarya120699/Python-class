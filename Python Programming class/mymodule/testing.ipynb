{
 "cells": [
  {
   "cell_type": "code",
   "execution_count": 13,
   "id": "7dc08134",
   "metadata": {},
   "outputs": [],
   "source": [
    "import Basic.Maths\n",
    "import Basic.FileIO\n"
   ]
  },
  {
   "cell_type": "code",
   "execution_count": 7,
   "id": "0ce8af89",
   "metadata": {},
   "outputs": [
    {
     "name": "stdout",
     "output_type": "stream",
     "text": [
      "The Sum = 300\n",
      "The Sum = 10\n"
     ]
    }
   ],
   "source": [
    "print(Basic.Maths.multi(30,10))\n",
    "print(Basic.Maths.sub(20,10))"
   ]
  },
  {
   "cell_type": "code",
   "execution_count": 17,
   "id": "27de010f",
   "metadata": {},
   "outputs": [
    {
     "name": "stdout",
     "output_type": "stream",
     "text": [
      "1.python.org\n",
      "2.downloads\n",
      "3.latest version\n",
      "4.Add python.exe to path - enable\n",
      "5.All check box - enable\n",
      "6.Install python for all users - enable\n",
      "7.keep path and install\n",
      "8.close\n",
      "9.cmd\n",
      "10.python --version\n",
      "11.py\n",
      "12.print(\"\n",
      "name\")\n",
      "13.Type IDLE\n",
      "14.Save the file .  extension withm py\n"
     ]
    }
   ],
   "source": [
    "print(Basic.FileIO.open_file('D:\\Python_class\\python installation guide.txt'))"
   ]
  },
  {
   "cell_type": "code",
   "execution_count": null,
   "id": "269dbafb",
   "metadata": {},
   "outputs": [],
   "source": []
  },
  {
   "cell_type": "code",
   "execution_count": null,
   "id": "72836f85",
   "metadata": {},
   "outputs": [],
   "source": []
  }
 ],
 "metadata": {
  "kernelspec": {
   "display_name": "Python 3 (ipykernel)",
   "language": "python",
   "name": "python3"
  },
  "language_info": {
   "codemirror_mode": {
    "name": "ipython",
    "version": 3
   },
   "file_extension": ".py",
   "mimetype": "text/x-python",
   "name": "python",
   "nbconvert_exporter": "python",
   "pygments_lexer": "ipython3",
   "version": "3.9.7"
  }
 },
 "nbformat": 4,
 "nbformat_minor": 5
}
