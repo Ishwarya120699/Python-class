{
 "cells": [
  {
   "cell_type": "markdown",
   "id": "d494e5a0",
   "metadata": {},
   "source": [
    "# ENCAPSULATION\n",
    "Encapsulation is one of the fundamental principles of object-oriented programming (OOP) and is implemented in Python to restrict access to certain aspects of an object and prevent the accidental modification of its internal state.\n",
    "The key concepts associated with encapsulation in Python include:"
   ]
  },
  {
   "cell_type": "markdown",
   "id": "9fc9d17c",
   "metadata": {},
   "source": [
    "# Access Modifiers:\n",
    "\n",
    "Python uses access modifiers to control the visibility of attributes and methods. The main access modifiers are:\n",
    "Public (public): Members are accessible from outside the class. In Python, all members are public by default.\n",
    "Protected (protected): Members are accessible within the class and its subclasses. In Python, you can denote a protected member by using a single leading underscore (e.g., _variable).\n",
    "Private (private): Members are only accessible within the class. In Python, you can denote a private member by using a double leading underscore (e.g., __variable).\n",
    "\n",
    "## Single Underscore Convention:\n",
    "\n",
    "A single leading underscore (_variable) is a convention in Python to indicate that a variable is intended for internal use. It doesn't prevent access, but it signals to other developers that the variable should be treated as private.\n",
    "\n",
    "## Double Underscore for Name Mangling:\n",
    "\n",
    "A double leading underscore (__variable) invokes name mangling in Python. It changes the name of the variable to avoid naming conflicts in subclasses. For example, __variable in a class named MyClass becomes _MyClass__variable."
   ]
  },
  {
   "cell_type": "code",
   "execution_count": 1,
   "id": "e7906b65",
   "metadata": {},
   "outputs": [
    {
     "name": "stdout",
     "output_type": "stream",
     "text": [
      "Google\n"
     ]
    }
   ],
   "source": [
    "#EXAMPLE:\n",
    "class company():\n",
    "    def __init__(self):\n",
    "        self.companyName=\"Google\"\n",
    "\n",
    "c1=company()\n",
    "print(c1.companyName)"
   ]
  },
  {
   "cell_type": "code",
   "execution_count": 2,
   "id": "3c7c14ce",
   "metadata": {},
   "outputs": [
    {
     "name": "stdout",
     "output_type": "stream",
     "text": [
      "Whirlpool\n"
     ]
    }
   ],
   "source": [
    "class company():\n",
    "    def __init__(self):\n",
    "        self.companyName=\"Google\"\n",
    "\n",
    "c1=company()\n",
    "c1.companyName = \"Whirlpool\"\n",
    "print(c1.companyName)"
   ]
  },
  {
   "cell_type": "code",
   "execution_count": null,
   "id": "3814133f",
   "metadata": {},
   "outputs": [],
   "source": [
    "-->The variable does not to be changed.\n",
    "-->Go with access modifiers\n"
   ]
  },
  {
   "cell_type": "code",
   "execution_count": 3,
   "id": "2303891a",
   "metadata": {},
   "outputs": [
    {
     "ename": "AttributeError",
     "evalue": "'company' object has no attribute '__companyName'",
     "output_type": "error",
     "traceback": [
      "\u001b[1;31m---------------------------------------------------------------------------\u001b[0m",
      "\u001b[1;31mAttributeError\u001b[0m                            Traceback (most recent call last)",
      "\u001b[1;32mC:\\Users\\ADMINI~1\\AppData\\Local\\Temp/ipykernel_24376/1194829257.py\u001b[0m in \u001b[0;36m<module>\u001b[1;34m\u001b[0m\n\u001b[0;32m      5\u001b[0m \u001b[0mc1\u001b[0m\u001b[1;33m=\u001b[0m\u001b[0mcompany\u001b[0m\u001b[1;33m(\u001b[0m\u001b[1;33m)\u001b[0m\u001b[1;33m\u001b[0m\u001b[1;33m\u001b[0m\u001b[0m\n\u001b[0;32m      6\u001b[0m \u001b[1;31m#c1.companyName = \"Whirlpool\"\u001b[0m\u001b[1;33m\u001b[0m\u001b[1;33m\u001b[0m\u001b[0m\n\u001b[1;32m----> 7\u001b[1;33m \u001b[0mprint\u001b[0m\u001b[1;33m(\u001b[0m\u001b[0mc1\u001b[0m\u001b[1;33m.\u001b[0m\u001b[0m__companyName\u001b[0m\u001b[1;33m)\u001b[0m\u001b[1;33m\u001b[0m\u001b[1;33m\u001b[0m\u001b[0m\n\u001b[0m\u001b[0;32m      8\u001b[0m \u001b[1;33m\u001b[0m\u001b[0m\n\u001b[0;32m      9\u001b[0m \u001b[1;31m# shows error\u001b[0m\u001b[1;33m\u001b[0m\u001b[1;33m\u001b[0m\u001b[0m\n",
      "\u001b[1;31mAttributeError\u001b[0m: 'company' object has no attribute '__companyName'"
     ]
    }
   ],
   "source": [
    "class company():\n",
    "    def __init__(self):\n",
    "        self.__companyName=\"Google\"\n",
    "\n",
    "c1=company()\n",
    "#c1.companyName = \"Whirlpool\"\n",
    "print(c1.__companyName)\n",
    "\n",
    "# shows error\n",
    "# Because of private varible(underscore)\n",
    "# The private variables are accessed with the class methods.\n"
   ]
  },
  {
   "cell_type": "code",
   "execution_count": 8,
   "id": "4d0c2caf",
   "metadata": {},
   "outputs": [
    {
     "name": "stdout",
     "output_type": "stream",
     "text": [
      "Google\n"
     ]
    }
   ],
   "source": [
    "class company():\n",
    "    def __init__(self):\n",
    "        self.__companyName=\"Google\"\n",
    "    \n",
    "    def companyName(self):\n",
    "        print(self.__companyName)\n",
    "\n",
    "c1=company()\n",
    "c1.companyName()\n",
    "\n",
    "\n"
   ]
  },
  {
   "cell_type": "code",
   "execution_count": 5,
   "id": "d7d24b57",
   "metadata": {},
   "outputs": [
    {
     "name": "stdout",
     "output_type": "stream",
     "text": [
      "Google\n"
     ]
    }
   ],
   "source": [
    "class company():\n",
    "    def __init__(self):\n",
    "        self.__companyName=\"Google\"\n",
    "    \n",
    "    def companyName(self):\n",
    "        print(self.__companyName)\n",
    "\n",
    "c1=company()\n",
    "c1.companyName()"
   ]
  },
  {
   "cell_type": "code",
   "execution_count": null,
   "id": "aae69c0a",
   "metadata": {},
   "outputs": [],
   "source": [
    "# Hide the variable  that create initial\n",
    "# only saw the method_variable that is public\n",
    "# Likewise particular variable - restrict the access and hiding the variable"
   ]
  },
  {
   "cell_type": "code",
   "execution_count": 9,
   "id": "d50d0859",
   "metadata": {},
   "outputs": [
    {
     "name": "stdout",
     "output_type": "stream",
     "text": [
      "Google\n"
     ]
    }
   ],
   "source": [
    "class company():\n",
    "    def __init__(self):\n",
    "        self._companyName=\"Google\"\n",
    "\n",
    "c1=company()\n",
    "print(c1._companyName)\n",
    "\n",
    "# protected variable can be accessed by child class"
   ]
  },
  {
   "cell_type": "code",
   "execution_count": 10,
   "id": "1f2fb038",
   "metadata": {},
   "outputs": [
    {
     "name": "stdout",
     "output_type": "stream",
     "text": [
      "Google\n"
     ]
    }
   ],
   "source": [
    "class company():\n",
    "    def __init__(self):\n",
    "        self._companyName=\"Google\"\n",
    "class b(company):\n",
    "    pass\n",
    "\n",
    "b1=b()\n",
    "print(b1._companyName)\n"
   ]
  },
  {
   "cell_type": "code",
   "execution_count": null,
   "id": "d6b4b14b",
   "metadata": {},
   "outputs": [],
   "source": []
  }
 ],
 "metadata": {
  "kernelspec": {
   "display_name": "Python 3 (ipykernel)",
   "language": "python",
   "name": "python3"
  },
  "language_info": {
   "codemirror_mode": {
    "name": "ipython",
    "version": 3
   },
   "file_extension": ".py",
   "mimetype": "text/x-python",
   "name": "python",
   "nbconvert_exporter": "python",
   "pygments_lexer": "ipython3",
   "version": "3.9.7"
  }
 },
 "nbformat": 4,
 "nbformat_minor": 5
}
