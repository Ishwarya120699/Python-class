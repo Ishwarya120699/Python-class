{
 "cells": [
  {
   "cell_type": "markdown",
   "id": "fac80fa9",
   "metadata": {},
   "source": [
    "# Exception Handling\n",
    "An Exception is an error that happens during exceptions of a program. When that error occurs."
   ]
  },
  {
   "cell_type": "raw",
   "id": "5cea2e0d",
   "metadata": {},
   "source": [
    "### Exception Handling Mechanism\n",
    "1.try-except\n",
    "2.try-multiple except\n",
    "3.try-except-else\n",
    "4.raise exception\n",
    "5.try-except finally"
   ]
  },
  {
   "cell_type": "raw",
   "id": "cec78d13",
   "metadata": {},
   "source": [
    "## try-except statements\n",
    "### syntax:\n",
    "try:\n",
    "    statements\n",
    "except:\n",
    "    statements"
   ]
  },
  {
   "cell_type": "markdown",
   "id": "cb10ead9",
   "metadata": {},
   "source": [
    "Step 1 : Initially try clause is executed\n",
    "Step 2 : If there is no exception occurs, skip the exception clause.\n",
    "Step 3 : If there is exception occurs, execution continues after try."
   ]
  },
  {
   "cell_type": "code",
   "execution_count": 2,
   "id": "cf770666",
   "metadata": {},
   "outputs": [
    {
     "name": "stdout",
     "output_type": "stream",
     "text": [
      "Enter a value10\n",
      "Enter b value10\n",
      "Division by zero\n"
     ]
    }
   ],
   "source": [
    "#Example Program1:\n",
    "a=int(input(\"Enter a value\"))\n",
    "b=int(input(\"Enter b value\"))\n",
    "try:\n",
    "    c=a/(a-b)\n",
    "    print(\"Result\",c)\n",
    "except ZeroDivisionError:\n",
    "    print(\"Division by zero\")"
   ]
  },
  {
   "cell_type": "raw",
   "id": "ae3fe588",
   "metadata": {},
   "source": [
    "### try-multiple except statements\n",
    "## syntax:\n",
    "try:\n",
    "    statements\n",
    "except errors1:\n",
    "    statements\n",
    "except errors2:\n",
    "    statements\n",
    "except errors3:\n",
    "    statements"
   ]
  },
  {
   "cell_type": "code",
   "execution_count": 10,
   "id": "f35ba242",
   "metadata": {},
   "outputs": [
    {
     "name": "stdout",
     "output_type": "stream",
     "text": [
      "Enter value of a5\n",
      "Enter value of by\n",
      "Input Must be number\n"
     ]
    }
   ],
   "source": [
    "#Example program\n",
    "a=input(\"Enter value of a\")\n",
    "b=input(\"Enter value of b\")\n",
    "try:\n",
    "    add=a+b\n",
    "    div = a/b\n",
    "    print(\"sum\",add)\n",
    "    print(\"Division\",div)\n",
    "except ZeroDivisionError:\n",
    "    print(\"Division by zero\")\n",
    "except TypeError:\n",
    "    print(\"Input Must be number\")\n",
    "    "
   ]
  },
  {
   "cell_type": "raw",
   "id": "f78d3894",
   "metadata": {},
   "source": [
    "### try-except-else\n",
    "In this else part will be executed only if the try block does not raise the exception.\n",
    "## Syntax:\n",
    "try:\n",
    "    statements\n",
    "except:\n",
    "    statements\n",
    "else:\n",
    "    statements"
   ]
  },
  {
   "cell_type": "code",
   "execution_count": 12,
   "id": "c4b51c54",
   "metadata": {},
   "outputs": [
    {
     "name": "stdout",
     "output_type": "stream",
     "text": [
      "Enter the value of a:2\n",
      "Enter the value of b:3\n",
      "result -2.0\n"
     ]
    }
   ],
   "source": [
    "#Example Program\n",
    "a=int(input(\"Enter the value of a:\"))\n",
    "b=int(input(\"Enter the value of b:\"))\n",
    "try:\n",
    "    result = a/(a-b)\n",
    "except ZeroDivisionError:\n",
    "    print(\"Division by zero\")\n",
    "else:\n",
    "    print(\"result\",result)\n",
    "    "
   ]
  },
  {
   "cell_type": "raw",
   "id": "b95fd536",
   "metadata": {},
   "source": [
    "### Raise Statement\n",
    "The raise statement allows the programmer to force a specified exception to occur.\n",
    "## Syntax:\n",
    "try:\n",
    "    raise______\n",
    "except:\n",
    "    statements"
   ]
  },
  {
   "cell_type": "code",
   "execution_count": 14,
   "id": "a6bd77ff",
   "metadata": {},
   "outputs": [
    {
     "name": "stdout",
     "output_type": "stream",
     "text": [
      "Enter the value of a2\n",
      "Enter the value of b0\n",
      "Exception raised\n"
     ]
    }
   ],
   "source": [
    "#Example Program\n",
    "a=int(input(\"Enter the value of a\"))\n",
    "b=int(input(\"Enter the value of b\"))\n",
    "try:\n",
    "    if b==0:\n",
    "        raise Exception\n",
    "    c=a/b\n",
    "    print(c)\n",
    "except:\n",
    "    print(\"Exception raised\")"
   ]
  },
  {
   "cell_type": "raw",
   "id": "6f86edef",
   "metadata": {},
   "source": [
    "### Try-Except-Finally:\n",
    "* A finally clause is always executed before leaving the try statement, whether an exception has occured or not.\n",
    "## Syntax:\n",
    "try:\n",
    "    statements\n",
    "except:\n",
    "    statements\n",
    "finally:\n",
    "    statements"
   ]
  },
  {
   "cell_type": "code",
   "execution_count": 16,
   "id": "4034a860",
   "metadata": {},
   "outputs": [
    {
     "name": "stdout",
     "output_type": "stream",
     "text": [
      "Enter the value of a:10\n",
      "Enter the value of b:10\n",
      "Division by zero\n",
      "executing finally clause\n"
     ]
    }
   ],
   "source": [
    "#Example Program\n",
    "a=int(input(\"Enter the value of a:\"))\n",
    "b=int(input(\"Enter the value of b:\"))\n",
    "try:\n",
    "    result = a/(a-b)\n",
    "except ZeroDivisionError:\n",
    "    print(\"Division by zero\")\n",
    "else:\n",
    "    print(\"result\",int(result))\n",
    "finally:\n",
    "    print(\"executing finally clause\")"
   ]
  },
  {
   "cell_type": "code",
   "execution_count": null,
   "id": "d585e856",
   "metadata": {},
   "outputs": [],
   "source": []
  }
 ],
 "metadata": {
  "kernelspec": {
   "display_name": "Python 3 (ipykernel)",
   "language": "python",
   "name": "python3"
  },
  "language_info": {
   "codemirror_mode": {
    "name": "ipython",
    "version": 3
   },
   "file_extension": ".py",
   "mimetype": "text/x-python",
   "name": "python",
   "nbconvert_exporter": "python",
   "pygments_lexer": "ipython3",
   "version": "3.9.7"
  }
 },
 "nbformat": 4,
 "nbformat_minor": 5
}
