{
 "cells": [
  {
   "cell_type": "markdown",
   "id": "89daf907",
   "metadata": {},
   "source": [
    "# GUI Programming\n",
    "\n",
    "GUI programming, or Graphical User Interface programming, involves creating applications that provide a visual way for users to interact with software through graphical elements such as windows, icons, buttons, and other visual components. In contrast to command-line interfaces (CLI), where users interact with software by typing text commands, GUIs make use of visual elements to simplify the user experience and allow for more intuitive interactions."
   ]
  },
  {
   "cell_type": "markdown",
   "id": "791dc117",
   "metadata": {},
   "source": [
    "# ELEMENTS\n",
    "\n",
    "Graphical Elements: GUIs use visual elements such as windows, buttons, menus, sliders, and more to allow users to interact with the software.\n",
    "\n",
    "User Interaction: Users interact with the software by clicking buttons, dragging sliders, typing into text boxes, and performing other actions using the mouse or touch input.\n",
    "\n",
    "Event-Driven Programming: GUI applications are often event-driven, meaning they respond to user actions or events, such as button clicks or mouse movements. Event handlers are used to manage these interactions.\n",
    "\n",
    "Widgets and Controls: GUIs are built using widgets or controls, which are the building blocks of the user interface. Examples include buttons, text boxes, checkboxes, and radio buttons.\n",
    "\n",
    "Layout Management: GUIs require a way to organize and position elements on the screen. Layout managers or geometry managers are used to control the arrangement of widgets within a window.\n",
    "\n",
    "Visual Design: The visual design of a GUI is important for creating an attractive and user-friendly interface. This includes considerations such as color schemes, fonts, and overall layout.\n",
    "\n",
    "Cross-Platform Development: GUI frameworks often provide the ability to create applications that run on multiple platforms (Windows, macOS, Linux) without significant modification.\n",
    "\n",
    "Python, along with libraries like Tkinter, PyQt, and Kivy, is commonly used for GUI programming. These libraries provide tools and frameworks to create graphical applications, making it easier for developers to design interactive and visually appealing software interfaces. GUI programming is widely used in a variety of applications, including desktop applications, mobile apps, and web applications that incorporate graphical interfaces for user interaction."
   ]
  },
  {
   "cell_type": "code",
   "execution_count": null,
   "id": "7fa2aee2",
   "metadata": {},
   "outputs": [],
   "source": []
  },
  {
   "cell_type": "code",
   "execution_count": 1,
   "id": "e5cabfcd",
   "metadata": {},
   "outputs": [
    {
     "name": "stdout",
     "output_type": "stream",
     "text": [
      "Note: you may need to restart the kernel to use updated packages.\n"
     ]
    },
    {
     "name": "stderr",
     "output_type": "stream",
     "text": [
      "ERROR: Could not find a version that satisfies the requirement tkinter (from versions: none)\n",
      "ERROR: No matching distribution found for tkinter\n",
      "\n",
      "[notice] A new release of pip is available: 23.1.2 -> 23.3.2\n",
      "[notice] To update, run: python.exe -m pip install --upgrade pip\n"
     ]
    }
   ],
   "source": [
    "pip install tkinter"
   ]
  },
  {
   "cell_type": "code",
   "execution_count": 31,
   "id": "278b7610",
   "metadata": {},
   "outputs": [],
   "source": [
    "from tkinter import *\n",
    "import tkinter.messagebox as messagebox"
   ]
  },
  {
   "cell_type": "code",
   "execution_count": 35,
   "id": "5db7acb2",
   "metadata": {},
   "outputs": [],
   "source": [
    "root = Tk()\n",
    "root.geometry('400x400')\n",
    "chk1 = IntVar()\n",
    "chk2 = IntVar()\n",
    "chk3 = IntVar()\n",
    "\n",
    "def submit():\n",
    "    if chk1.get() == 1:\n",
    "        messagebox.showinfo(\"Hello, C\")\n",
    "    elif chk2.get()== 1:\n",
    "        messagebox.showinfo(\"Hello,C++\")\n",
    "    elif chk3.get()==1:\n",
    "        messagebox.showinfo(\"Hello, Python\")\n",
    "    else:\n",
    "        pass\n",
    "\n",
    "chkbttn1=Checkbutton(root, text = \"C\", variable = chk1, onvalue = 1, offvalue = 0 , height = 2 , width = 10)\n",
    "chkbttn1.pack()\n",
    "chkbttn2=Checkbutton(root, text = \"C++\", variable = chk2, onvalue = 1, offvalue = 0 , height = 2 , width = 10)\n",
    "chkbttn2.pack()\n",
    "chkbttn3=Checkbutton(root, text = \"Python\", variable = chk3, onvalue = 1, offvalue = 0 , height = 2 , width = 10)\n",
    "chkbttn3.pack()\n",
    "\n",
    "btn = Button(root, text = \"Submit\",  width = 10 , command = submit)\n",
    "btn.pack()\n",
    "\n",
    "root.mainloop()"
   ]
  },
  {
   "cell_type": "code",
   "execution_count": 2,
   "id": "a3201ff1",
   "metadata": {},
   "outputs": [],
   "source": [
    "from tkinter import *"
   ]
  },
  {
   "cell_type": "code",
   "execution_count": 2,
   "id": "35bde0f7",
   "metadata": {},
   "outputs": [],
   "source": [
    "import tkinter.messagebox as messagebox"
   ]
  },
  {
   "cell_type": "code",
   "execution_count": 5,
   "id": "34d5ed9c",
   "metadata": {},
   "outputs": [],
   "source": [
    "root = Tk()\n",
    "v = IntVar()\n",
    "v.set(1)\n",
    "root.geometry(\"400x400\")\n",
    "def getvalue():\n",
    "    ans = v.get()\n",
    "    if ans == 1:\n",
    "        messagebox.showinfo(\" C\")\n",
    "    elif ans == 2:\n",
    "        messagebox.showinfo(\" C++\")\n",
    "    elif ans == 3:\n",
    "        messagebox.showinfo(\"Java\")\n",
    "    elif ans == 4:\n",
    "        messagebox.showinfo(\" Python\")\n",
    "    elif ans == 5:\n",
    "        messagebox.showinfo(\" Php\")\n",
    "    else:\n",
    "        pass\n",
    "values = [(1,\"C\"),(2,\"C++\"),(3,\"Java\"),(4,\"Python\"),(5,\"Php\")]\n",
    "Label(root,text = \"Choose your fav program\").pack()\n",
    "for val,program in values:\n",
    "    Radiobutton(root,text = program, value = val,variable =v ,command = getvalue).pack()\n",
    "mainloop()"
   ]
  },
  {
   "cell_type": "code",
   "execution_count": 9,
   "id": "f7126533",
   "metadata": {},
   "outputs": [],
   "source": [
    "root = Tk()\n",
    "root.geometry(\"400x400\")\n",
    "frm1 = Frame(root,bg = \"red\",width = 300, height = 200, cursor = \"dot\")\n",
    "frm2 = Frame(root,bg = \"blue\",width = 300, height = 200, cursor = \"dot\")\n",
    "frm1.pack(side = TOP)\n",
    "frm2.pack(side = BOTTOM)\n",
    "\n",
    "mainloop()"
   ]
  },
  {
   "cell_type": "code",
   "execution_count": 12,
   "id": "1f421a50",
   "metadata": {},
   "outputs": [],
   "source": [
    "from tkinter import *\n",
    "root = Tk()\n",
    "menubar = Menu(root)\n",
    "file = Menu(menubar, tearoff = 0)\n",
    "file.add_command(label = \"new\")\n",
    "file.add_command(label = \"Open\")\n",
    "file.add_command(label = \"Save\")\n",
    "file.add_command(label = \"Save As\")\n",
    "file.add_command(label = \"Close\")\n",
    "file.add_separator()\n",
    "file.add_command(label = \"Exit\")\n",
    "menubar.add_cascade(label = \"File\", menu = file)\n",
    "root.config(menu = menubar)\n",
    "mainloop()\n"
   ]
  },
  {
   "cell_type": "code",
   "execution_count": 14,
   "id": "525aee65",
   "metadata": {},
   "outputs": [],
   "source": [
    "from tkinter import *\n",
    "root = Tk()\n",
    "menubar = Menu(root)\n",
    "file = Menu(menubar, tearoff = 0)\n",
    "file.add_command(label = \"new\")\n",
    "file.add_command(label = \"Open\")\n",
    "file.add_command(label = \"Save\")\n",
    "file.add_command(label = \"Save As\")\n",
    "file.add_command(label = \"Close\")\n",
    "file.add_separator()\n",
    "file.add_command(label = \"Exit\", command = root.quit)\n",
    "menubar.add_cascade(label = \"File\", menu = file)\n",
    "\n",
    "edit = Menu(menubar,tearoff = 0)\n",
    "edit.add_command(label = \"Copy\")\n",
    "edit.add_command(label = \"Cut\")\n",
    "edit.add_command(label = \"Paste\")\n",
    "edit.add_separator()\n",
    "edit.add_command(label = \"Undo\")\n",
    "edit.add_command(label = \"Redo\")\n",
    "menubar.add_cascade(label = \"Edit\", menu = edit)\n",
    "root.config(menu = menubar)\n",
    "mainloop()"
   ]
  },
  {
   "cell_type": "code",
   "execution_count": 18,
   "id": "89c9f6c4",
   "metadata": {},
   "outputs": [],
   "source": [
    "from tkinter import *\n",
    "from tkinter import messagebox\n",
    "#import MySQLdb as sql\n",
    "root = Tk()\n",
    "root.geometry(\"300x200\")\n",
    "t=Label(root, text = \"Login Form\", font =('arial',14),bd = 15)\n",
    "t.pack()\n",
    "form = Frame(root)\n",
    "form.pack(side = TOP, fill = X)\n",
    "nameL = Label(form, text = \"Username:\",font =('arial',14),bd=15)\n",
    "passL = Label(form, text = \"Password:\", font =('arial',14),bd=15)\n",
    "nameL.grid(row = 1, sticky = W)\n",
    "passL.grid(row = 2,sticky = W)\n",
    "nameE = Entry(form)\n",
    "passE = Entry(form, show = \"*\")\n",
    "nameE.grid(row =1 , column = 2)\n",
    "passE.grid(row=2,column = 2)\n",
    "login = Button(root, text = \"Login\")\n",
    "login.pack()\n",
    "root.mainloop()"
   ]
  },
  {
   "cell_type": "code",
   "execution_count": 37,
   "id": "4e59e9d1",
   "metadata": {},
   "outputs": [],
   "source": [
    "from tkinter import *\n",
    "from tkinter import messagebox\n",
    "#import MySQLdb as sql\n",
    "root = Tk()\n",
    "root.geometry(\"300x200\")\n",
    "root.title(\"Python class\")\n",
    "t=Label(root, text = \"Login Form\", font =('arial',14),bd = 15)\n",
    "t.pack()\n",
    "form = Frame(root)\n",
    "form.pack(side = TOP, fill = X)\n",
    "nameL = Label(form, text = \"Username:\",font =('arial',14),bd=15)\n",
    "passL = Label(form, text = \"Password:\", font =('arial',14),bd=15)\n",
    "nameL.grid(row = 1, sticky = W)\n",
    "passL.grid(row = 2,sticky = W)\n",
    "nameE = Entry(form)\n",
    "passE = Entry(form, show = \"*\")\n",
    "nameE.grid(row =1 , column = 2)\n",
    "passE.grid(row=2,column = 2)\n",
    "login = Button(root, text = \"Login\")\n",
    "login.pack()\n",
    "root.mainloop()"
   ]
  },
  {
   "cell_type": "code",
   "execution_count": null,
   "id": "3e4bab9e",
   "metadata": {},
   "outputs": [],
   "source": [
    "pip install mysql-connector-python"
   ]
  },
  {
   "cell_type": "code",
   "execution_count": 2,
   "id": "231c03a7",
   "metadata": {},
   "outputs": [],
   "source": [
    "from tkinter import *\n",
    "from tkinter import messagebox\n",
    "import mysql.connector\n",
    "def connection(user,passw):\n",
    "    host = 'localhost'\n",
    "    user = 'root'\n",
    "    pw = 'IshKaninimysql'\n",
    "    port = 3306\n",
    "    db = 'driver'\n",
    "    conn = mysql.connector.connect(host=host, user=user, password=pw, port=port, db=db)\n",
    "    query = \"select id from login where name = %s and password = %s\"\n",
    "    vals = (user,passw)\n",
    "    cur = conn.cursor()\n",
    "    cur.execute(query,vals)\n",
    "    result = cur.fetchall()\n",
    "    conn.close()\n",
    "    return result\n",
    "def check():\n",
    "    u_name = un.get()\n",
    "    pass_word = pw.get()\n",
    "    data = connection(u_name, pass_word)\n",
    "    if len(data) > 0:\n",
    "        messagebox.showinfo(title = \"hello root\",message = \"welcome..you are login successful\")\n",
    "    else:\n",
    "        messagebox.showinfo(title = \"hello root\",message = \"Please enter correct credentials\")\n",
    "root = Tk()\n",
    "un = StringVar()\n",
    "pw = StringVar()\n",
    "root.geometry(\"300x200\")\n",
    "t=Label(root, text = \"Login Form\", font =('arial',14),bd = 15)\n",
    "t.pack()\n",
    "form = Frame(root)\n",
    "form.pack(side = TOP, fill = X)\n",
    "nameL = Label(form, text = \"Username:\",font =('arial',14),bd=15)\n",
    "passL = Label(form, text = \"Password:\", font =('arial',14),bd=15)\n",
    "nameL.grid(row = 1, sticky = W)\n",
    "passL.grid(row = 2,sticky = W)\n",
    "nameE = Entry(form, textvariable = un)\n",
    "passE = Entry(form,  textvariable = pw,show = \"*\")\n",
    "nameE.grid(row =1 , column = 2)\n",
    "passE.grid(row=2,column = 2)\n",
    "login = Button(root, text = \"Login\",command = check)\n",
    "login.pack()\n",
    "root.mainloop()"
   ]
  },
  {
   "cell_type": "code",
   "execution_count": 3,
   "id": "d14d712e",
   "metadata": {},
   "outputs": [],
   "source": [
    "from tkinter import *\n",
    "import tkinter.messagebox as messagebox\n",
    "import mysql.connector as mysql\n",
    "\n",
    "def insert():\n",
    "    id = e_id.get()\n",
    "    name = e_name.get();\n",
    "    phone = e_phone.get();\n",
    "    \n",
    "    if(id==\"\" or name==\"\" or phone==\"\"):\n",
    "        MessageBox.showinfo(\"Insert Status\", \"All Fields are required\")\n",
    "    else:\n",
    "        con = mysql.connect(host=\"localhost\",user = \"root\", password = \"IshKaninimysql\", database =\"driver\")\n",
    "        cursor = con.cursor()\n",
    "        cursor.execute(\"insert into student values('\"+ id +\"','\"+ name +\"','\"+ phone +\"')\")\n",
    "        cursor.execute(\"commit\");\n",
    "        \n",
    "        e_id.delete(0, 'end')\n",
    "        e_name.delete(0, 'end')\n",
    "        e_phone.delete(0, 'end')\n",
    "        MessageBox.showinfo(\"Insert Status\",\"Inserted successfully\");\n",
    "        con.close();        \n",
    "root = Tk()\n",
    "root.geometry(\"600x300\")\n",
    "root.title(\"Python+Tkinter+Mysql\")\n",
    "\n",
    "id = Label(root,text = 'Enter ID',font = ('bold',10))\n",
    "id.place(x=20,y=30)\n",
    "\n",
    "name = Label(root,text = 'Enter Name',font = ('bold',10))\n",
    "name.place(x=20,y=60)\n",
    "\n",
    "phone = Label(root,text = 'Enter Phone',font = ('bold',10))\n",
    "phone.place(x=20,y=90)\n",
    "\n",
    "e_id = Entry()\n",
    "e_id.place(x=150,y=30)\n",
    "\n",
    "e_name = Entry()\n",
    "e_name.place(x=150, y=60)\n",
    "\n",
    "e_phone = Entry()\n",
    "e_phone.place(x=150, y=90)\n",
    "\n",
    "insert = Button(root, text = \"insert\", font =(\"Italic\",10), bg = \"white\", command=insert)\n",
    "insert.place(x=20, y=140)\n",
    "\n",
    "#delete = Button(root, text = \"delete\", font =(\"Italic\",10), bg = \"white\", command=delete)\n",
    "#delete.place(x=20, y=140)\n",
    "\n",
    "#update = Button(root, text = \"update\", font =(\"Italic\",10), bg = \"white\", command=update)\n",
    "#update.place(x=20, y=140)\n",
    "\n"
   ]
  },
  {
   "cell_type": "code",
   "execution_count": 7,
   "id": "9a08b600",
   "metadata": {},
   "outputs": [
    {
     "data": {
      "text/plain": [
       "''"
      ]
     },
     "execution_count": 7,
     "metadata": {},
     "output_type": "execute_result"
    }
   ],
   "source": [
    "from tkinter import *\n",
    "import tkinter.messagebox as messagebox\n",
    "\n",
    "root = Tk()\n",
    "root.geometry('400x400')"
   ]
  },
  {
   "cell_type": "code",
   "execution_count": null,
   "id": "9382bedd",
   "metadata": {},
   "outputs": [],
   "source": []
  }
 ],
 "metadata": {
  "kernelspec": {
   "display_name": "Python 3 (ipykernel)",
   "language": "python",
   "name": "python3"
  },
  "language_info": {
   "codemirror_mode": {
    "name": "ipython",
    "version": 3
   },
   "file_extension": ".py",
   "mimetype": "text/x-python",
   "name": "python",
   "nbconvert_exporter": "python",
   "pygments_lexer": "ipython3",
   "version": "3.9.7"
  }
 },
 "nbformat": 4,
 "nbformat_minor": 5
}
