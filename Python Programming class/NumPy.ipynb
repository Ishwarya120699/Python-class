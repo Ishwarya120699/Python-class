{
 "cells": [
  {
   "cell_type": "markdown",
   "id": "7a31ce6f",
   "metadata": {},
   "source": [
    "# NUMPY"
   ]
  },
  {
   "cell_type": "markdown",
   "id": "a6c3a8c1",
   "metadata": {},
   "source": [
    "## Definition :\n",
    "NumPy is a powerful numerical computing library in Python that provides support for large, \n",
    "multi-dimensional arrays and matrices,along with a collection of high-level mathematical functions to operate on these arrays. "
   ]
  },
  {
   "cell_type": "markdown",
   "id": "7ae18d88",
   "metadata": {},
   "source": [
    "## Installation:\n",
    "NumPy can be installed using the following pip command:"
   ]
  },
  {
   "cell_type": "code",
   "execution_count": 1,
   "id": "9eb5610c",
   "metadata": {},
   "outputs": [
    {
     "name": "stdout",
     "output_type": "stream",
     "text": [
      "Requirement already satisfied: numpy in c:\\users\\administrator\\anaconda3\\lib\\site-packages (1.25.2)\n",
      "Note: you may need to restart the kernel to use updated packages.\n"
     ]
    },
    {
     "name": "stderr",
     "output_type": "stream",
     "text": [
      "\n",
      "[notice] A new release of pip is available: 23.1.2 -> 23.3.2\n",
      "[notice] To update, run: python.exe -m pip install --upgrade pip\n"
     ]
    }
   ],
   "source": [
    "pip install numpy"
   ]
  },
  {
   "cell_type": "markdown",
   "id": "3bd4c9af",
   "metadata": {},
   "source": [
    "## Importing NumPy:\n",
    "\n",
    "Once installed, you can import NumPy in your Python script or Jupyter notebook:"
   ]
  },
  {
   "cell_type": "code",
   "execution_count": 2,
   "id": "abad79d4",
   "metadata": {},
   "outputs": [],
   "source": [
    "import numpy as np"
   ]
  },
  {
   "cell_type": "markdown",
   "id": "eff9daf6",
   "metadata": {},
   "source": [
    "## NumPy Arrays:\n",
    "\n",
    "The core data structure in NumPy is the numpy.ndarray, commonly referred to as a NumPy array.\n",
    "NumPy arrays can be created from Python lists or other iterable objects."
   ]
  },
  {
   "cell_type": "code",
   "execution_count": 5,
   "id": "e22211d2",
   "metadata": {},
   "outputs": [
    {
     "name": "stdout",
     "output_type": "stream",
     "text": [
      "[[1 2 3 4 5]\n",
      " [2 3 4 4 5]]\n"
     ]
    }
   ],
   "source": [
    "import numpy as np\n",
    "\n",
    "# Creating a NumPy array from a Python list\n",
    "my_list = [[1, 2, 3, 4, 5],[2,3,4,4,5]]\n",
    "my_array = np.array(my_list)\n",
    "print(my_array)\n"
   ]
  },
  {
   "cell_type": "markdown",
   "id": "2f7ad28e",
   "metadata": {},
   "source": [
    "## Array Attributes:\n",
    "\n",
    "NumPy arrays have several important attributes, such as shape, dtype, and size."
   ]
  },
  {
   "cell_type": "code",
   "execution_count": 6,
   "id": "471a18a2",
   "metadata": {},
   "outputs": [
    {
     "name": "stdout",
     "output_type": "stream",
     "text": [
      "(2, 5)\n",
      "int32\n",
      "10\n"
     ]
    }
   ],
   "source": [
    "print(my_array.shape)  # Returns the dimensions of the array\n",
    "print(my_array.dtype)  # Returns the data type of the elements\n",
    "print(my_array.size)   # Returns the total number of elements"
   ]
  },
  {
   "cell_type": "markdown",
   "id": "b5b6f6cf",
   "metadata": {},
   "source": [
    "## Array Operations:\n",
    "\n",
    "NumPy provides a wide range of mathematical operations that can be performed on arrays.\n",
    "Element-wise operations are the default behavior in NumPy."
   ]
  },
  {
   "cell_type": "code",
   "execution_count": 7,
   "id": "92a433f4",
   "metadata": {},
   "outputs": [
    {
     "name": "stdout",
     "output_type": "stream",
     "text": [
      "[[11 12 13 14 15]\n",
      " [12 13 14 14 15]]\n"
     ]
    }
   ],
   "source": [
    "# Element-wise addition\n",
    "result_array = my_array + 10\n",
    "print(result_array)"
   ]
  },
  {
   "cell_type": "markdown",
   "id": "9fc7fb42",
   "metadata": {},
   "source": [
    "## Array Indexing and Slicing:\n",
    "\n",
    "NumPy arrays support advanced indexing and slicing operations."
   ]
  },
  {
   "cell_type": "code",
   "execution_count": 13,
   "id": "281098f6",
   "metadata": {},
   "outputs": [
    {
     "name": "stdout",
     "output_type": "stream",
     "text": [
      "[2 3 4 4 5]\n",
      "[2 3]\n"
     ]
    }
   ],
   "source": [
    "# Indexing\n",
    "print(my_array[1])   # Access the first element\n",
    "\n",
    "# Slicing\n",
    "a=[1,2,3,4]\n",
    "my_arr=np.array(a)\n",
    "print(my_arr[1:3])  # Access elements from index 1 to 3\n"
   ]
  },
  {
   "cell_type": "markdown",
   "id": "c659b4a1",
   "metadata": {},
   "source": [
    "## Multi-dimensional Arrays:\n",
    "\n",
    "NumPy can handle multi-dimensional arrays, providing a convenient way to represent matrices and higher-dimensional data."
   ]
  },
  {
   "cell_type": "code",
   "execution_count": 8,
   "id": "46aee766",
   "metadata": {},
   "outputs": [
    {
     "name": "stdout",
     "output_type": "stream",
     "text": [
      "[[1 2 3]\n",
      " [4 5 6]]\n"
     ]
    }
   ],
   "source": [
    "# Creating a 2D array\n",
    "matrix = np.array([[1, 2, 3], [4, 5, 6]])\n",
    "print(matrix)"
   ]
  },
  {
   "cell_type": "markdown",
   "id": "b49d5c79",
   "metadata": {},
   "source": [
    "## Universal Functions (ufunc):\n",
    "\n",
    "NumPy provides universal functions that operate element-wise on arrays. These functions are highly optimized and can significantly improve performance."
   ]
  },
  {
   "cell_type": "code",
   "execution_count": 14,
   "id": "4a7bae17",
   "metadata": {},
   "outputs": [
    {
     "name": "stdout",
     "output_type": "stream",
     "text": [
      "[[1.         1.41421356 1.73205081 2.         2.23606798]\n",
      " [1.41421356 1.73205081 2.         2.         2.23606798]]\n"
     ]
    }
   ],
   "source": [
    "# Example of a ufunc: Square root of each element\n",
    "result = np.sqrt(my_array)\n",
    "print(result)"
   ]
  },
  {
   "cell_type": "markdown",
   "id": "54fcce77",
   "metadata": {},
   "source": [
    "## Linear Algebra Operations:\n",
    "\n",
    "NumPy includes a variety of functions for linear algebra operations, such as matrix multiplication, determinant, and eigenvalues."
   ]
  },
  {
   "cell_type": "code",
   "execution_count": 15,
   "id": "d38c0682",
   "metadata": {},
   "outputs": [
    {
     "name": "stdout",
     "output_type": "stream",
     "text": [
      "[[1.         1.41421356 1.73205081 2.         2.23606798]\n",
      " [1.41421356 1.73205081 2.         2.         2.23606798]]\n"
     ]
    }
   ],
   "source": [
    "# Matrix multiplication\n",
    "matrix_a = np.array([[1, 2], [3, 4]])\n",
    "matrix_b = np.array([[5, 6], [7, 8]])\n",
    "result_matrix = np.dot(matrix_a, matrix_b)\n",
    "print(result)"
   ]
  },
  {
   "cell_type": "markdown",
   "id": "c566ec02",
   "metadata": {},
   "source": [
    "## Random Module:\n",
    "\n",
    "NumPy provides a random module for generating random numbers and distributions."
   ]
  },
  {
   "cell_type": "code",
   "execution_count": 17,
   "id": "5749cfec",
   "metadata": {},
   "outputs": [
    {
     "name": "stdout",
     "output_type": "stream",
     "text": [
      "[[0.86359412 0.72903199 0.0383724 ]\n",
      " [0.5255678  0.22211623 0.21780434]\n",
      " [0.09056055 0.74060736 0.41979831]]\n"
     ]
    }
   ],
   "source": [
    "# Generating random numbers\n",
    "random_array = np.random.rand(3, 3)  # 3x3 array with random values between 0 and 1\n",
    "print(random_array)"
   ]
  },
  {
   "cell_type": "code",
   "execution_count": 3,
   "id": "b293cddf",
   "metadata": {},
   "outputs": [
    {
     "name": "stdout",
     "output_type": "stream",
     "text": [
      "[[2 3 4]\n",
      " [5 6 7]\n",
      " [8 9 0]\n",
      " [4 2 9]]\n"
     ]
    }
   ],
   "source": [
    "array1=np.array([[2,3,4],[5,6,7],[8,9,0],[4,2,9]])\n",
    "print(array1)"
   ]
  },
  {
   "cell_type": "code",
   "execution_count": 5,
   "id": "8e06cdb2",
   "metadata": {},
   "outputs": [
    {
     "name": "stdout",
     "output_type": "stream",
     "text": [
      "[2 3 4]\n"
     ]
    }
   ],
   "source": [
    "print(array1[0,])"
   ]
  },
  {
   "cell_type": "code",
   "execution_count": 5,
   "id": "30ba7500",
   "metadata": {},
   "outputs": [
    {
     "name": "stdout",
     "output_type": "stream",
     "text": [
      "[3 6 9 2]\n"
     ]
    }
   ],
   "source": [
    "print(array1[:,1])"
   ]
  },
  {
   "cell_type": "code",
   "execution_count": 6,
   "id": "3bf0f5ec",
   "metadata": {},
   "outputs": [
    {
     "name": "stdout",
     "output_type": "stream",
     "text": [
      "[[6 7]\n",
      " [9 0]]\n"
     ]
    }
   ],
   "source": [
    "print(array1[1:3,1:3])"
   ]
  },
  {
   "cell_type": "code",
   "execution_count": null,
   "id": "d946844a",
   "metadata": {},
   "outputs": [],
   "source": []
  }
 ],
 "metadata": {
  "kernelspec": {
   "display_name": "Python 3 (ipykernel)",
   "language": "python",
   "name": "python3"
  },
  "language_info": {
   "codemirror_mode": {
    "name": "ipython",
    "version": 3
   },
   "file_extension": ".py",
   "mimetype": "text/x-python",
   "name": "python",
   "nbconvert_exporter": "python",
   "pygments_lexer": "ipython3",
   "version": "3.9.7"
  }
 },
 "nbformat": 4,
 "nbformat_minor": 5
}
