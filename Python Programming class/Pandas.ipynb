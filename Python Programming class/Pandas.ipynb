{
 "cells": [
  {
   "cell_type": "markdown",
   "id": "f33ed3d5",
   "metadata": {},
   "source": [
    "# PANDAS"
   ]
  },
  {
   "cell_type": "markdown",
   "id": "4277c23d",
   "metadata": {},
   "source": [
    "## Definition:\n",
    "pandas is a powerful and widely-used Python library for data manipulation and analysis. It provides data structures like Series and DataFrame, which are built on top of NumPy arrays, \n",
    "making it easy to work with structured data. Here's an introduction to pandas:"
   ]
  },
  {
   "cell_type": "markdown",
   "id": "98d52bb3",
   "metadata": {},
   "source": [
    "## Installation:\n",
    "\n",
    "You can install pandas using the following pip command:"
   ]
  },
  {
   "cell_type": "code",
   "execution_count": 1,
   "id": "d6f690f8",
   "metadata": {},
   "outputs": [
    {
     "name": "stdout",
     "output_type": "stream",
     "text": [
      "Requirement already satisfied: pandas in c:\\users\\administrator\\anaconda3\\lib\\site-packages (1.3.4)Note: you may need to restart the kernel to use updated packages.\n"
     ]
    },
    {
     "name": "stderr",
     "output_type": "stream",
     "text": [
      "\n",
      "[notice] A new release of pip is available: 23.1.2 -> 23.3.2\n",
      "[notice] To update, run: python.exe -m pip install --upgrade pip\n"
     ]
    },
    {
     "name": "stdout",
     "output_type": "stream",
     "text": [
      "\n",
      "Requirement already satisfied: python-dateutil>=2.7.3 in c:\\users\\administrator\\anaconda3\\lib\\site-packages (from pandas) (2.8.2)\n",
      "Requirement already satisfied: pytz>=2017.3 in c:\\users\\administrator\\anaconda3\\lib\\site-packages (from pandas) (2021.3)\n",
      "Requirement already satisfied: numpy>=1.17.3 in c:\\users\\administrator\\anaconda3\\lib\\site-packages (from pandas) (1.25.2)\n",
      "Requirement already satisfied: six>=1.5 in c:\\users\\administrator\\anaconda3\\lib\\site-packages (from python-dateutil>=2.7.3->pandas) (1.16.0)\n"
     ]
    }
   ],
   "source": [
    "pip install pandas\n"
   ]
  },
  {
   "cell_type": "markdown",
   "id": "cf5ca409",
   "metadata": {},
   "source": [
    "## Importing pandas:\n",
    "\n",
    "After installation, you can import pandas in your Python script or Jupyter notebook:"
   ]
  },
  {
   "cell_type": "code",
   "execution_count": 2,
   "id": "ced0b0ff",
   "metadata": {},
   "outputs": [],
   "source": [
    "import pandas as pd\n"
   ]
  },
  {
   "cell_type": "markdown",
   "id": "80723e82",
   "metadata": {},
   "source": [
    "## pandas Series:\n",
    "\n",
    "A pandas Series is a one-dimensional labeled array that can hold any data type. It is similar to a NumPy array, but with additional labels or index."
   ]
  },
  {
   "cell_type": "code",
   "execution_count": 3,
   "id": "debbfd23",
   "metadata": {},
   "outputs": [
    {
     "name": "stdout",
     "output_type": "stream",
     "text": [
      "0    10\n",
      "1    20\n",
      "2    30\n",
      "3    40\n",
      "4    50\n",
      "dtype: int64\n"
     ]
    }
   ],
   "source": [
    "# Creating a pandas Series from a Python list\n",
    "my_list = [10, 20, 30, 40, 50]\n",
    "my_series = pd.Series(my_list)\n",
    "print(my_series)\n"
   ]
  },
  {
   "cell_type": "markdown",
   "id": "6fdbcaee",
   "metadata": {},
   "source": [
    "# Series Attributes:\n",
    "\n",
    "Similar to NumPy arrays, pandas Series have attributes like index and values."
   ]
  },
  {
   "cell_type": "code",
   "execution_count": 5,
   "id": "4a90577a",
   "metadata": {},
   "outputs": [
    {
     "name": "stdout",
     "output_type": "stream",
     "text": [
      "RangeIndex(start=0, stop=5, step=1)\n",
      "[10 20 30 40 50]\n"
     ]
    }
   ],
   "source": [
    "print(my_series.index)   # Returns the index of the Series\n",
    "print(my_series.values)  # Returns the values of the Series\n"
   ]
  },
  {
   "cell_type": "markdown",
   "id": "64f9faa5",
   "metadata": {},
   "source": [
    "# pandas DataFrame:\n",
    "\n",
    "A pandas DataFrame is a two-dimensional table with rows and columns. It is one of the most commonly used structures in pandas."
   ]
  },
  {
   "cell_type": "code",
   "execution_count": 7,
   "id": "835d04fb",
   "metadata": {},
   "outputs": [
    {
     "name": "stdout",
     "output_type": "stream",
     "text": [
      "      Name  Age           City\n",
      "0    Alice   25       New York\n",
      "1      Bob   30  San Francisco\n",
      "2  Charlie   35    Los Angeles\n"
     ]
    }
   ],
   "source": [
    "# Creating a pandas DataFrame from a dictionary\n",
    "data = {'Name': ['Alice', 'Bob', 'Charlie'],\n",
    "        'Age': [25, 30, 35],\n",
    "        'City': ['New York', 'San Francisco', 'Los Angeles']}\n",
    "df = pd.DataFrame(data)\n",
    "print(df)"
   ]
  },
  {
   "cell_type": "markdown",
   "id": "41392534",
   "metadata": {},
   "source": [
    "# DataFrame Operations:\n",
    "\n",
    "pandas provides a wide range of operations for DataFrame manipulation, including indexing, selecting, and filtering data."
   ]
  },
  {
   "cell_type": "code",
   "execution_count": 5,
   "id": "92a39c8a",
   "metadata": {},
   "outputs": [
    {
     "name": "stdout",
     "output_type": "stream",
     "text": [
      "    Name  Age      City\n",
      "0  Alice   25  New York\n"
     ]
    }
   ],
   "source": [
    "# Selecting a column\n",
    "age_column = df['Age']\n",
    "\n",
    "# Filtering rows based on a condition\n",
    "young_people = df[df['Age'] < 30]\n",
    "\n",
    "\n",
    "print(young_people)\n"
   ]
  },
  {
   "cell_type": "markdown",
   "id": "293a9a5b",
   "metadata": {},
   "source": [
    "# Handling Missing Data:\n",
    "\n",
    "pandas has built-in methods for handling missing data, such as dropna() and fillna()."
   ]
  },
  {
   "cell_type": "code",
   "execution_count": 19,
   "id": "e1f804c5",
   "metadata": {},
   "outputs": [
    {
     "name": "stdout",
     "output_type": "stream",
     "text": [
      "   name  toy\n",
      "1  name  cat\n",
      "        name  toy\n",
      "0  supername  cat\n",
      "1       name  cat\n"
     ]
    }
   ],
   "source": [
    "# Dropping rows with missing values\n",
    "df=pd.DataFrame({\"name\":['supername','name'],\n",
    "                \"toy\":[pd.NaT,'cat']})\n",
    "\n",
    "df_without_missing = df.dropna()\n",
    "\n",
    "\n",
    "# Filling missing values with a specific value\n",
    "df_filled = df.fillna('cat')\n",
    "\n",
    "print(df_without_missing)\n",
    "print(df_filled)\n",
    "\n"
   ]
  },
  {
   "cell_type": "markdown",
   "id": "020cfbc9",
   "metadata": {},
   "source": [
    "# Grouping and Aggregation:\n",
    "\n",
    "pandas supports grouping of data based on certain criteria, and you can perform aggregations on the grouped data."
   ]
  },
  {
   "cell_type": "code",
   "execution_count": 12,
   "id": "2f2fc245",
   "metadata": {},
   "outputs": [
    {
     "name": "stdout",
     "output_type": "stream",
     "text": [
      "City\n",
      "Los Angeles      35.0\n",
      "New York         25.0\n",
      "San Francisco    30.0\n",
      "Name: Age, dtype: float64\n"
     ]
    }
   ],
   "source": [
    "# Grouping by 'City' and calculating the average age\n",
    "average_age_by_city = df.groupby('City')['Age'].mean()\n",
    "print(average_age_by_city)\n"
   ]
  },
  {
   "cell_type": "markdown",
   "id": "bfc1e7f1",
   "metadata": {},
   "source": [
    "# Merging and Concatenation:\n",
    "\n",
    "pandas provides functions for merging and concatenating DataFrames, allowing you to combine data from different sources."
   ]
  },
  {
   "cell_type": "code",
   "execution_count": 20,
   "id": "350b1245",
   "metadata": {},
   "outputs": [
    {
     "name": "stdout",
     "output_type": "stream",
     "text": [
      "   ID     Name  Age\n",
      "0   2      Bob   25\n",
      "1   3  Charlie   30\n",
      "   ID     Name   Age\n",
      "0   1    Alice   NaN\n",
      "1   2      Bob   NaN\n",
      "2   3  Charlie   NaN\n",
      "0   2      NaN  25.0\n",
      "1   3      NaN  30.0\n",
      "2   4      NaN  35.0\n"
     ]
    }
   ],
   "source": [
    "# Merging two DataFrames based on a common column\n",
    "df1 = pd.DataFrame({'ID': [1, 2, 3], 'Name': ['Alice', 'Bob', 'Charlie']})\n",
    "df2 = pd.DataFrame({'ID': [2, 3, 4], 'Age': [25, 30, 35]})\n",
    "merged_df = pd.merge(df1, df2, on='ID')\n",
    "print(merged_df)\n",
    "\n",
    "# Concatenating DataFrames vertically\n",
    "concatenated_df = pd.concat([df1, df2])\n",
    "print(concatenated_df)\n"
   ]
  },
  {
   "cell_type": "markdown",
   "id": "c788b592",
   "metadata": {},
   "source": [
    "# IO Operations:\n",
    "\n",
    "pandas supports reading and writing data in various formats, including CSV, Excel, SQL, and more."
   ]
  },
  {
   "cell_type": "code",
   "execution_count": null,
   "id": "8692f73c",
   "metadata": {},
   "outputs": [],
   "source": [
    "# Reading data from a CSV file\n",
    "data_from_csv = pd.read_csv('data.csv')\n",
    "\n",
    "# Writing data to an Excel file\n",
    "df.to_excel('output.xlsx', index=False)\n"
   ]
  },
  {
   "cell_type": "code",
   "execution_count": 19,
   "id": "a1bffea3",
   "metadata": {},
   "outputs": [
    {
     "name": "stdout",
     "output_type": "stream",
     "text": [
      "output.xlsx\n"
     ]
    }
   ],
   "source": [
    "import pandas as pd\n",
    "\n",
    "# Creating a sample DataFrame\n",
    "data = {'Name': ['Alice', 'Bob', 'Charlie'],\n",
    "        'Age': [25, 30, 35],\n",
    "        'City': ['New York', 'San Francisco', 'Los Angeles']}\n",
    "df = pd.DataFrame(data)\n",
    "\n",
    "# Writing the DataFrame to an Excel file\n",
    "df.to_excel('output.xlsx', index=False)\n"
   ]
  },
  {
   "cell_type": "code",
   "execution_count": 2,
   "id": "3d50f625",
   "metadata": {},
   "outputs": [],
   "source": [
    "import pandas as pd\n",
    "d=pd.read_excel(r\"C:\\Users\\Administrator\\Desktop\\sample.xlsx\")\n",
    "df=pd.DataFrame(d)"
   ]
  },
  {
   "cell_type": "code",
   "execution_count": 3,
   "id": "a8fa4b86",
   "metadata": {},
   "outputs": [
    {
     "data": {
      "text/html": [
       "<div>\n",
       "<style scoped>\n",
       "    .dataframe tbody tr th:only-of-type {\n",
       "        vertical-align: middle;\n",
       "    }\n",
       "\n",
       "    .dataframe tbody tr th {\n",
       "        vertical-align: top;\n",
       "    }\n",
       "\n",
       "    .dataframe thead th {\n",
       "        text-align: right;\n",
       "    }\n",
       "</style>\n",
       "<table border=\"1\" class=\"dataframe\">\n",
       "  <thead>\n",
       "    <tr style=\"text-align: right;\">\n",
       "      <th></th>\n",
       "      <th>ID</th>\n",
       "      <th>First Name</th>\n",
       "      <th>Last Name</th>\n",
       "      <th>Hire Date</th>\n",
       "      <th>Start Salary</th>\n",
       "      <th>Email</th>\n",
       "      <th>Phone</th>\n",
       "    </tr>\n",
       "  </thead>\n",
       "  <tbody>\n",
       "    <tr>\n",
       "      <th>0</th>\n",
       "      <td>3</td>\n",
       "      <td>Julie</td>\n",
       "      <td>Rhatt</td>\n",
       "      <td>2023-04-23</td>\n",
       "      <td>NaN</td>\n",
       "      <td>rhatt@gmail.com</td>\n",
       "      <td>1.234568e+09</td>\n",
       "    </tr>\n",
       "    <tr>\n",
       "      <th>1</th>\n",
       "      <td>4</td>\n",
       "      <td>Tom</td>\n",
       "      <td>Jerry</td>\n",
       "      <td>2023-06-04</td>\n",
       "      <td>30000.0</td>\n",
       "      <td>tom@gmail.com</td>\n",
       "      <td>3.456789e+09</td>\n",
       "    </tr>\n",
       "    <tr>\n",
       "      <th>2</th>\n",
       "      <td>5</td>\n",
       "      <td>Cat</td>\n",
       "      <td>NaN</td>\n",
       "      <td>2023-06-07</td>\n",
       "      <td>20000.0</td>\n",
       "      <td>cat@gmail.com</td>\n",
       "      <td>NaN</td>\n",
       "    </tr>\n",
       "    <tr>\n",
       "      <th>3</th>\n",
       "      <td>6</td>\n",
       "      <td>Julie</td>\n",
       "      <td>Rhatt</td>\n",
       "      <td>2023-06-25</td>\n",
       "      <td>30000.0</td>\n",
       "      <td>rhatt@gmail.com</td>\n",
       "      <td>1.234568e+09</td>\n",
       "    </tr>\n",
       "    <tr>\n",
       "      <th>4</th>\n",
       "      <td>7</td>\n",
       "      <td>rohit</td>\n",
       "      <td>y</td>\n",
       "      <td>NaT</td>\n",
       "      <td>20000.0</td>\n",
       "      <td>rohit@123</td>\n",
       "      <td>1.234568e+08</td>\n",
       "    </tr>\n",
       "  </tbody>\n",
       "</table>\n",
       "</div>"
      ],
      "text/plain": [
       "   ID First Name Last Name  Hire Date  Start Salary            Email  \\\n",
       "0   3      Julie     Rhatt 2023-04-23           NaN  rhatt@gmail.com   \n",
       "1   4        Tom     Jerry 2023-06-04       30000.0    tom@gmail.com   \n",
       "2   5        Cat       NaN 2023-06-07       20000.0    cat@gmail.com   \n",
       "3   6      Julie     Rhatt 2023-06-25       30000.0  rhatt@gmail.com   \n",
       "4   7      rohit         y        NaT       20000.0        rohit@123   \n",
       "\n",
       "          Phone  \n",
       "0  1.234568e+09  \n",
       "1  3.456789e+09  \n",
       "2           NaN  \n",
       "3  1.234568e+09  \n",
       "4  1.234568e+08  "
      ]
     },
     "execution_count": 3,
     "metadata": {},
     "output_type": "execute_result"
    }
   ],
   "source": [
    "df"
   ]
  },
  {
   "cell_type": "code",
   "execution_count": 5,
   "id": "c319c633",
   "metadata": {},
   "outputs": [
    {
     "data": {
      "text/html": [
       "<div>\n",
       "<style scoped>\n",
       "    .dataframe tbody tr th:only-of-type {\n",
       "        vertical-align: middle;\n",
       "    }\n",
       "\n",
       "    .dataframe tbody tr th {\n",
       "        vertical-align: top;\n",
       "    }\n",
       "\n",
       "    .dataframe thead th {\n",
       "        text-align: right;\n",
       "    }\n",
       "</style>\n",
       "<table border=\"1\" class=\"dataframe\">\n",
       "  <thead>\n",
       "    <tr style=\"text-align: right;\">\n",
       "      <th></th>\n",
       "      <th>ID</th>\n",
       "      <th>First Name</th>\n",
       "      <th>Last Name</th>\n",
       "      <th>Hire Date</th>\n",
       "      <th>Start Salary</th>\n",
       "      <th>Email</th>\n",
       "      <th>Phone</th>\n",
       "    </tr>\n",
       "  </thead>\n",
       "  <tbody>\n",
       "    <tr>\n",
       "      <th>0</th>\n",
       "      <td>3</td>\n",
       "      <td>Julie</td>\n",
       "      <td>Rhatt</td>\n",
       "      <td>2023-04-23 00:00:00</td>\n",
       "      <td>MISSING</td>\n",
       "      <td>rhatt@gmail.com</td>\n",
       "      <td>1234567892.0</td>\n",
       "    </tr>\n",
       "    <tr>\n",
       "      <th>1</th>\n",
       "      <td>4</td>\n",
       "      <td>Tom</td>\n",
       "      <td>Jerry</td>\n",
       "      <td>2023-06-04 00:00:00</td>\n",
       "      <td>30000.0</td>\n",
       "      <td>tom@gmail.com</td>\n",
       "      <td>3456789123.0</td>\n",
       "    </tr>\n",
       "    <tr>\n",
       "      <th>2</th>\n",
       "      <td>5</td>\n",
       "      <td>Cat</td>\n",
       "      <td>MISSING</td>\n",
       "      <td>2023-06-07 00:00:00</td>\n",
       "      <td>20000.0</td>\n",
       "      <td>cat@gmail.com</td>\n",
       "      <td>MISSING</td>\n",
       "    </tr>\n",
       "    <tr>\n",
       "      <th>3</th>\n",
       "      <td>6</td>\n",
       "      <td>Julie</td>\n",
       "      <td>Rhatt</td>\n",
       "      <td>2023-06-25 00:00:00</td>\n",
       "      <td>30000.0</td>\n",
       "      <td>rhatt@gmail.com</td>\n",
       "      <td>1234567892.0</td>\n",
       "    </tr>\n",
       "    <tr>\n",
       "      <th>4</th>\n",
       "      <td>7</td>\n",
       "      <td>rohit</td>\n",
       "      <td>y</td>\n",
       "      <td>MISSING</td>\n",
       "      <td>20000.0</td>\n",
       "      <td>rohit@123</td>\n",
       "      <td>123456789.0</td>\n",
       "    </tr>\n",
       "  </tbody>\n",
       "</table>\n",
       "</div>"
      ],
      "text/plain": [
       "   ID First Name Last Name            Hire Date Start Salary            Email  \\\n",
       "0   3      Julie     Rhatt  2023-04-23 00:00:00      MISSING  rhatt@gmail.com   \n",
       "1   4        Tom     Jerry  2023-06-04 00:00:00      30000.0    tom@gmail.com   \n",
       "2   5        Cat   MISSING  2023-06-07 00:00:00      20000.0    cat@gmail.com   \n",
       "3   6      Julie     Rhatt  2023-06-25 00:00:00      30000.0  rhatt@gmail.com   \n",
       "4   7      rohit         y              MISSING      20000.0        rohit@123   \n",
       "\n",
       "          Phone  \n",
       "0  1234567892.0  \n",
       "1  3456789123.0  \n",
       "2       MISSING  \n",
       "3  1234567892.0  \n",
       "4   123456789.0  "
      ]
     },
     "execution_count": 5,
     "metadata": {},
     "output_type": "execute_result"
    }
   ],
   "source": [
    "df.fillna('MISSING')"
   ]
  },
  {
   "cell_type": "code",
   "execution_count": null,
   "id": "7b3bc16b",
   "metadata": {},
   "outputs": [],
   "source": []
  }
 ],
 "metadata": {
  "kernelspec": {
   "display_name": "Python 3 (ipykernel)",
   "language": "python",
   "name": "python3"
  },
  "language_info": {
   "codemirror_mode": {
    "name": "ipython",
    "version": 3
   },
   "file_extension": ".py",
   "mimetype": "text/x-python",
   "name": "python",
   "nbconvert_exporter": "python",
   "pygments_lexer": "ipython3",
   "version": "3.9.7"
  }
 },
 "nbformat": 4,
 "nbformat_minor": 5
}
