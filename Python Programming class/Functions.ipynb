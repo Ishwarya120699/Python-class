{
 "cells": [
  {
   "cell_type": "code",
   "execution_count": null,
   "id": "bd4b6b82",
   "metadata": {},
   "outputs": [],
   "source": [
    "#A function is a block of code which only runs when it is called.\n",
    "#You can pass data, known as parameters, into a function.\n",
    "#A function can return data as a result."
   ]
  },
  {
   "cell_type": "code",
   "execution_count": 38,
   "id": "198e24a4",
   "metadata": {},
   "outputs": [],
   "source": [
    "def my_function():\n",
    "  print(\"Hello from a function\")"
   ]
  },
  {
   "cell_type": "code",
   "execution_count": 39,
   "id": "da095287",
   "metadata": {},
   "outputs": [
    {
     "name": "stdout",
     "output_type": "stream",
     "text": [
      "Hello from a function\n"
     ]
    }
   ],
   "source": [
    "my_function()"
   ]
  },
  {
   "cell_type": "markdown",
   "id": "d8a8fa9b",
   "metadata": {},
   "source": [
    "#### Functions\n",
    "\n",
    "Functions in Python. You use functions in programming to bundle a set of instructions \n",
    "that you want to use repeatedly or that, because of their complexity,\n",
    "are better self-contained in a sub-program and called when needed. \n",
    "That means that a function is a piece of code written to carry out a specified task."
   ]
  },
  {
   "cell_type": "markdown",
   "id": "87357076",
   "metadata": {},
   "source": [
    "##### Types of function\n",
    "There are two types of function in Python programming:\n",
    "\n",
    "Standard library functions - These are built-in functions in Python that are available to use.\n",
    "User-defined functions - We can create our own functions based on our requirements."
   ]
  },
  {
   "cell_type": "code",
   "execution_count": null,
   "id": "8769c50c",
   "metadata": {},
   "outputs": [],
   "source": [
    "Python Function Declaration\n",
    "The syntax to declare a function is:\n",
    "\n",
    "def function_name(arguments):\n",
    "     #function body \n",
    "\n",
    "    return"
   ]
  },
  {
   "cell_type": "markdown",
   "id": "0c2d6846",
   "metadata": {},
   "source": [
    "### Here,\n",
    "\n",
    "def - keyword used to declare a function\n",
    "function_name - any name given to the function\n",
    "arguments - any value passed to function\n",
    "return (optional) - returns value from a function"
   ]
  },
  {
   "cell_type": "code",
   "execution_count": 1,
   "id": "2ca2cf2a",
   "metadata": {},
   "outputs": [],
   "source": [
    "def greet():\n",
    "    print('Hello World!')"
   ]
  },
  {
   "cell_type": "code",
   "execution_count": 2,
   "id": "69eb1ebf",
   "metadata": {},
   "outputs": [
    {
     "name": "stdout",
     "output_type": "stream",
     "text": [
      "Hello World!\n"
     ]
    }
   ],
   "source": [
    "# call the function\n",
    "greet()"
   ]
  },
  {
   "cell_type": "code",
   "execution_count": null,
   "id": "b2f6ad1f",
   "metadata": {},
   "outputs": [],
   "source": [
    "Python Function Arguments\n",
    "As mentioned earlier, a function can also have arguments. An argument is a value that is accepted by a function. For example,\n"
   ]
  },
  {
   "cell_type": "code",
   "execution_count": 40,
   "id": "ad00f6de",
   "metadata": {},
   "outputs": [],
   "source": [
    "# function with two arguments\n",
    "def add_numbers(num1, num2):\n",
    "    sum = num1 + num2\n",
    "    print('Sum: ',sum)\n"
   ]
  },
  {
   "cell_type": "code",
   "execution_count": 5,
   "id": "db400427",
   "metadata": {},
   "outputs": [
    {
     "name": "stdout",
     "output_type": "stream",
     "text": [
      "Sum:  9\n"
     ]
    }
   ],
   "source": [
    "# function call with two values\n",
    "add_numbers(5, 4)"
   ]
  },
  {
   "cell_type": "markdown",
   "id": "37315416",
   "metadata": {},
   "source": [
    "# The return Statement in Python\n",
    "A Python function may or may not return a value. \n",
    "If we want our function to return some value to a function call, we use the return statement. For example,"
   ]
  },
  {
   "cell_type": "code",
   "execution_count": null,
   "id": "055d76c9",
   "metadata": {},
   "outputs": [],
   "source": [
    "def add_numbers():\n",
    "    ...\n",
    "    return sum"
   ]
  },
  {
   "cell_type": "code",
   "execution_count": 6,
   "id": "45d20254",
   "metadata": {},
   "outputs": [
    {
     "name": "stdout",
     "output_type": "stream",
     "text": [
      "Square: 9\n"
     ]
    }
   ],
   "source": [
    "#Function Return Type\n",
    "# function definition\n",
    "def find_square(num):\n",
    "    result = num * num\n",
    "    return result\n",
    "\n",
    "# function call\n",
    "square = find_square(3)\n",
    "\n",
    "print('Square:',square)\n",
    "\n",
    "# Output: Square: 9"
   ]
  },
  {
   "cell_type": "code",
   "execution_count": 7,
   "id": "9513dbf2",
   "metadata": {},
   "outputs": [
    {
     "name": "stdout",
     "output_type": "stream",
     "text": [
      "Sum:  9\n"
     ]
    }
   ],
   "source": [
    "#Example 3: Add Two Numbers\n",
    "# function that adds two numbers\n",
    "def add_numbers(num1, num2):\n",
    "    sum = num1 + num2\n",
    "    return sum\n",
    "\n",
    "# calling function with two values\n",
    "result = add_numbers(5, 4)\n",
    "\n",
    "print('Sum: ', result)\n",
    "\n",
    "# Output: Sum: 9"
   ]
  },
  {
   "cell_type": "code",
   "execution_count": 1,
   "id": "29272a4d",
   "metadata": {},
   "outputs": [
    {
     "name": "stdout",
     "output_type": "stream",
     "text": [
      "55\n"
     ]
    }
   ],
   "source": [
    "#Example4 :Variable Number of Arguments:\n",
    "def sum_all(*s):\n",
    "    \"\"\"This function takes a variable number of arguments and returns their sum.\"\"\"\n",
    "    return sum(s)\n",
    "\n",
    "# Usage\n",
    "result = sum_all(1, 2, 3, 4, 5,6,7,8,9,10)\n",
    "print(result)  # Output: 15"
   ]
  },
  {
   "cell_type": "markdown",
   "id": "5ed169f4",
   "metadata": {},
   "source": [
    "# Python Library Functions\n",
    "In Python, standard library functions are the built-in functions that can be used directly in our program. For example,\n",
    "\n",
    "print() - prints the string inside the quotation marks\n",
    "sqrt() - returns the square root of a number\n",
    "pow() - returns the power of a number\n",
    "These library functions are defined inside the module. And, to use them we must include the module inside our program.\n",
    "\n",
    "For example, sqrt() is defined inside the math module."
   ]
  },
  {
   "cell_type": "code",
   "execution_count": null,
   "id": "e2bcdb16",
   "metadata": {},
   "outputs": [],
   "source": [
    "#Example 4: Python Library Function"
   ]
  },
  {
   "cell_type": "code",
   "execution_count": 8,
   "id": "a73fa3a0",
   "metadata": {},
   "outputs": [
    {
     "name": "stdout",
     "output_type": "stream",
     "text": [
      "Square Root of 4 is 2.0\n",
      "2 to the power 3 is 8\n"
     ]
    }
   ],
   "source": [
    "import math\n",
    "\n",
    "# sqrt computes the square root\n",
    "square_root = math.sqrt(4)\n",
    "\n",
    "print(\"Square Root of 4 is\",square_root)\n",
    "\n",
    "# pow() comptes the power\n",
    "power = pow(2, 3)\n",
    "\n",
    "print(\"2 to the power 3 is\",power)"
   ]
  },
  {
   "cell_type": "code",
   "execution_count": 3,
   "id": "91e84854",
   "metadata": {},
   "outputs": [
    {
     "name": "stdout",
     "output_type": "stream",
     "text": [
      "Hello, Alice! It's Python.\n",
      "Python%is%awesome\n",
      "HELLO\n"
     ]
    }
   ],
   "source": [
    "# Formatting strings\n",
    "formatted_string = \"Hello, {}! It's {}.\".format(\"Alice\", \"Python\")\n",
    "print(formatted_string)\n",
    "\n",
    "# Joining strings in a list\n",
    "words = [\"Python\", \"is\", \"awesome\"]\n",
    "joined_string = \"%\".join(words)\n",
    "print(joined_string)  # Output: Python is awesome\n",
    "\n",
    "# Case manipulation\n",
    "uppercase_string = \"heLlo\".upper()\n",
    "print(uppercase_string)  # Output: HELLO"
   ]
  },
  {
   "cell_type": "code",
   "execution_count": 14,
   "id": "7c1c73e4",
   "metadata": {},
   "outputs": [
    {
     "name": "stdout",
     "output_type": "stream",
     "text": [
      "3\n",
      "[5, 3, 1, 2, 4]\n"
     ]
    }
   ],
   "source": [
    "import random\n",
    "\n",
    "# Generate a random integer between 1 and 10\n",
    "random_number = random.randint(1, 5)\n",
    "print(random_number)\n",
    "\n",
    "# Shuffle a list\n",
    "my_list = [1, 2, 3, 4, 5]\n",
    "random.shuffle(my_list)\n",
    "print(my_list)"
   ]
  },
  {
   "cell_type": "raw",
   "id": "9d664391",
   "metadata": {},
   "source": [
    "Benefits of Using Functions\n",
    "1. Code Reusable - We can use the same function multiple times in our program which makes our code reusable.\n",
    "2. Code Readability - Functions help us break our code into chunks to make our program readable and easy to understand."
   ]
  },
  {
   "cell_type": "markdown",
   "id": "79df4101",
   "metadata": {},
   "source": [
    "### Python Recursion\n",
    "Recursion is the process of defining something in terms of itself.\n",
    "In Python, we know that a function can call other functions. It is even possible for the function to call itself. These types of construct are termed as recursive functions.\n",
    "* Factorial of a number is the product of all the integers from 1 to that number. For example, the factorial of 6 (denoted as 6!) is 1*2*3*4*5*6 = 720."
   ]
  },
  {
   "cell_type": "raw",
   "id": "95e01554",
   "metadata": {},
   "source": [
    "Advantages of Recursion\n",
    "1.Recursive functions make the code look clean and elegant.\n",
    "2.A complex task can be broken down into simpler sub-problems using recursion.\n",
    "3.Sequence generation is easier with recursion than using some nested iteration."
   ]
  },
  {
   "cell_type": "raw",
   "id": "95336624",
   "metadata": {},
   "source": [
    "Disadvantages of Recursion\n",
    "1.Sometimes the logic behind recursion is hard to follow through.\n",
    "2.Recursive calls are expensive (inefficient) as they take up a lot of memory and time.\n",
    "3.Recursive functions are hard to debug."
   ]
  },
  {
   "cell_type": "code",
   "execution_count": 20,
   "id": "aeea5e69",
   "metadata": {},
   "outputs": [
    {
     "name": "stdout",
     "output_type": "stream",
     "text": [
      "The factorial of 3 is 6\n"
     ]
    }
   ],
   "source": [
    "#Example of a recursive function\n",
    "def factorial(x):\n",
    "    \"\"\"This is a recursive function\n",
    "    to find the factorial of an integer\"\"\"\n",
    "\n",
    "    if x == 1:\n",
    "        return 1\n",
    "    else:\n",
    "        return (x * factorial(x-1))\n",
    "\n",
    "\n",
    "num = 3\n",
    "print(\"The factorial of\", num, \"is\", factorial(num))"
   ]
  },
  {
   "cell_type": "code",
   "execution_count": 15,
   "id": "be43fd29",
   "metadata": {},
   "outputs": [
    {
     "name": "stdout",
     "output_type": "stream",
     "text": [
      "5\n"
     ]
    }
   ],
   "source": [
    "def fibonacci(n):\n",
    "    \"\"\"Generate the nth Fibonacci number.\"\"\"\n",
    "    if n <= 0:\n",
    "        return \"Input should be a positive integer.\"\n",
    "    elif n == 1:\n",
    "        return 0\n",
    "    elif n == 2:\n",
    "        return 1\n",
    "    else:\n",
    "        return fibonacci(n - 1) + fibonacci(n - 2)\n",
    "\n",
    "# Usage\n",
    "result = fibonacci(6)\n",
    "print(result)  # Output: 5 (1, 1, 2, 3, 5, 8, ...)"
   ]
  },
  {
   "cell_type": "markdown",
   "id": "2cc0f95b",
   "metadata": {},
   "source": [
    "### Python Lambda/Anonymous Function\n",
    "In Python, a lambda function is a special type of function without the function name. For example,"
   ]
  },
  {
   "cell_type": "code",
   "execution_count": 9,
   "id": "f602ad65",
   "metadata": {},
   "outputs": [
    {
     "data": {
      "text/plain": [
       "<function __main__.<lambda>()>"
      ]
     },
     "execution_count": 9,
     "metadata": {},
     "output_type": "execute_result"
    }
   ],
   "source": [
    "lambda : print('Hello World')"
   ]
  },
  {
   "cell_type": "code",
   "execution_count": null,
   "id": "eda5dbea",
   "metadata": {},
   "outputs": [],
   "source": [
    "#lambda argument(s) : expression "
   ]
  },
  {
   "cell_type": "raw",
   "id": "241b8331",
   "metadata": {},
   "source": [
    "argument(s) - any value passed to the lambda function\n",
    "expression - expression is executed and returned"
   ]
  },
  {
   "cell_type": "code",
   "execution_count": 11,
   "id": "2753712a",
   "metadata": {},
   "outputs": [],
   "source": [
    "greet = lambda : print('Hello World')"
   ]
  },
  {
   "cell_type": "code",
   "execution_count": 12,
   "id": "02c7241c",
   "metadata": {},
   "outputs": [
    {
     "name": "stdout",
     "output_type": "stream",
     "text": [
      "Hello World\n"
     ]
    }
   ],
   "source": [
    "# call the lambda\n",
    "greet()"
   ]
  },
  {
   "cell_type": "code",
   "execution_count": 13,
   "id": "b20e5a96",
   "metadata": {},
   "outputs": [
    {
     "name": "stdout",
     "output_type": "stream",
     "text": [
      "Hey there, Delilah\n"
     ]
    }
   ],
   "source": [
    "#Python lambda Function with an Argument\n",
    "# lambda that accepts one argument\n",
    "greet_user = lambda name : print('Hey there,', name)\n",
    "\n",
    "# lambda call\n",
    "greet_user('Delilah')\n",
    "\n",
    "# Output: Hey there, Delilah"
   ]
  },
  {
   "cell_type": "markdown",
   "id": "2537d4e2",
   "metadata": {},
   "source": [
    "### Python Variable Scope\n",
    "In Python, we can declare variables in three different scopes: local scope, global, and nonlocal scope.\n",
    "* Python Local Variables\n",
    "When we declare variables inside a function, these variables will have a local scope (within the function). We cannot access them outside the function."
   ]
  },
  {
   "cell_type": "code",
   "execution_count": 18,
   "id": "e46cac57",
   "metadata": {},
   "outputs": [
    {
     "name": "stdout",
     "output_type": "stream",
     "text": [
      "Local Hello\n"
     ]
    },
    {
     "ename": "NameError",
     "evalue": "name 'message' is not defined",
     "output_type": "error",
     "traceback": [
      "\u001b[1;31m---------------------------------------------------------------------------\u001b[0m",
      "\u001b[1;31mNameError\u001b[0m                                 Traceback (most recent call last)",
      "\u001b[1;32mC:\\Users\\ADMINI~1\\AppData\\Local\\Temp/ipykernel_3400/58019250.py\u001b[0m in \u001b[0;36m<module>\u001b[1;34m\u001b[0m\n\u001b[0;32m     10\u001b[0m \u001b[1;31m# try to access message variable\u001b[0m\u001b[1;33m\u001b[0m\u001b[1;33m\u001b[0m\u001b[0m\n\u001b[0;32m     11\u001b[0m \u001b[1;31m# outside greet() function\u001b[0m\u001b[1;33m\u001b[0m\u001b[1;33m\u001b[0m\u001b[0m\n\u001b[1;32m---> 12\u001b[1;33m \u001b[0mprint\u001b[0m\u001b[1;33m(\u001b[0m\u001b[0mmessage\u001b[0m\u001b[1;33m)\u001b[0m\u001b[1;33m\u001b[0m\u001b[1;33m\u001b[0m\u001b[0m\n\u001b[0m",
      "\u001b[1;31mNameError\u001b[0m: name 'message' is not defined"
     ]
    }
   ],
   "source": [
    "def greet():\n",
    "\n",
    "    # local variable\n",
    "    message = 'Hello'\n",
    "    \n",
    "    print('Local', message)\n",
    "\n",
    "greet()\n",
    "\n",
    "# try to access message variable \n",
    "# outside greet() function\n",
    "print(message)"
   ]
  },
  {
   "cell_type": "code",
   "execution_count": null,
   "id": "610cf3cd",
   "metadata": {},
   "outputs": [],
   "source": [
    "# Here, the message variable is local to the greet() function, so it can only be accessed within the function."
   ]
  },
  {
   "cell_type": "markdown",
   "id": "a1748523",
   "metadata": {},
   "source": [
    "#### Python Global Variables\n",
    "In Python, a variable declared outside of the function or in global scope is known as a global variable. \n",
    "This means that a global variable can be accessed inside or outside of the function."
   ]
  },
  {
   "cell_type": "code",
   "execution_count": 15,
   "id": "ba56d569",
   "metadata": {},
   "outputs": [
    {
     "name": "stdout",
     "output_type": "stream",
     "text": [
      "Local Hello\n",
      "Global Hello\n"
     ]
    }
   ],
   "source": [
    "# declare global variable\n",
    "message = 'Hello'\n",
    "\n",
    "def greet():\n",
    "    # declare local variable\n",
    "    print('Local', message)\n",
    "\n",
    "greet()\n",
    "print('Global', message)"
   ]
  },
  {
   "cell_type": "markdown",
   "id": "61f65e13",
   "metadata": {},
   "source": [
    "#### Python Nonlocal Variables\n",
    "In Python, nonlocal variables are used in nested functions whose local scope is not defined. \n",
    "This means that the variable can be neither in the local nor the global scope."
   ]
  },
  {
   "cell_type": "code",
   "execution_count": 36,
   "id": "9ab01169",
   "metadata": {},
   "outputs": [
    {
     "name": "stdout",
     "output_type": "stream",
     "text": [
      "inner: nonlocal\n",
      "outer: nonlocal\n"
     ]
    }
   ],
   "source": [
    "# outside function \n",
    "def outer():\n",
    "    message = 'local'\n",
    "\n",
    "    # nested function  \n",
    "    def inner():\n",
    "\n",
    "        # declare nonlocal variable\n",
    "        nonlocal message\n",
    "\n",
    "        message = 'nonlocal'\n",
    "        print(\"inner:\", message)\n",
    "\n",
    "    inner()\n",
    "    print(\"outer:\", message)\n",
    "\n",
    "outer()"
   ]
  },
  {
   "cell_type": "markdown",
   "id": "06627841",
   "metadata": {},
   "source": [
    "#### Python Global Keyword\n",
    "In Python, the global keyword allows us to modify the variable outside of the current scope.\n",
    "\n",
    "It is used to create a global variable and make changes to the variable in a local context."
   ]
  },
  {
   "cell_type": "code",
   "execution_count": 19,
   "id": "32fcc9cd",
   "metadata": {},
   "outputs": [
    {
     "name": "stdout",
     "output_type": "stream",
     "text": [
      "1\n"
     ]
    }
   ],
   "source": [
    "#Access and Modify Python Global Variable\n",
    "c = 1 # global variable\n",
    "\n",
    "def add():\n",
    "    print(c)\n",
    "\n",
    "add()\n",
    "\n",
    "# Output: 1"
   ]
  },
  {
   "cell_type": "raw",
   "id": "62b55e3c",
   "metadata": {},
   "source": [
    "Here, we can see that we have accessed a global variable from the inside of a function."
   ]
  },
  {
   "cell_type": "code",
   "execution_count": 20,
   "id": "b3d5d0ab",
   "metadata": {},
   "outputs": [
    {
     "ename": "UnboundLocalError",
     "evalue": "local variable 'c' referenced before assignment",
     "output_type": "error",
     "traceback": [
      "\u001b[1;31m---------------------------------------------------------------------------\u001b[0m",
      "\u001b[1;31mUnboundLocalError\u001b[0m                         Traceback (most recent call last)",
      "\u001b[1;32mC:\\Users\\ADMINI~1\\AppData\\Local\\Temp/ipykernel_3400/779517079.py\u001b[0m in \u001b[0;36m<module>\u001b[1;34m\u001b[0m\n\u001b[0;32m      9\u001b[0m     \u001b[0mprint\u001b[0m\u001b[1;33m(\u001b[0m\u001b[0mc\u001b[0m\u001b[1;33m)\u001b[0m\u001b[1;33m\u001b[0m\u001b[1;33m\u001b[0m\u001b[0m\n\u001b[0;32m     10\u001b[0m \u001b[1;33m\u001b[0m\u001b[0m\n\u001b[1;32m---> 11\u001b[1;33m \u001b[0madd\u001b[0m\u001b[1;33m(\u001b[0m\u001b[1;33m)\u001b[0m\u001b[1;33m\u001b[0m\u001b[1;33m\u001b[0m\u001b[0m\n\u001b[0m",
      "\u001b[1;32mC:\\Users\\ADMINI~1\\AppData\\Local\\Temp/ipykernel_3400/779517079.py\u001b[0m in \u001b[0;36madd\u001b[1;34m()\u001b[0m\n\u001b[0;32m      5\u001b[0m \u001b[1;33m\u001b[0m\u001b[0m\n\u001b[0;32m      6\u001b[0m      \u001b[1;31m# increment c by 2\u001b[0m\u001b[1;33m\u001b[0m\u001b[1;33m\u001b[0m\u001b[0m\n\u001b[1;32m----> 7\u001b[1;33m     \u001b[0mc\u001b[0m \u001b[1;33m=\u001b[0m \u001b[0mc\u001b[0m \u001b[1;33m+\u001b[0m \u001b[1;36m2\u001b[0m\u001b[1;33m\u001b[0m\u001b[1;33m\u001b[0m\u001b[0m\n\u001b[0m\u001b[0;32m      8\u001b[0m \u001b[1;33m\u001b[0m\u001b[0m\n\u001b[0;32m      9\u001b[0m     \u001b[0mprint\u001b[0m\u001b[1;33m(\u001b[0m\u001b[0mc\u001b[0m\u001b[1;33m)\u001b[0m\u001b[1;33m\u001b[0m\u001b[1;33m\u001b[0m\u001b[0m\n",
      "\u001b[1;31mUnboundLocalError\u001b[0m: local variable 'c' referenced before assignment"
     ]
    }
   ],
   "source": [
    "# global variable\n",
    "c = 1 \n",
    "\n",
    "def add():\n",
    "\n",
    "     # increment c by 2\n",
    "    c = c + 2\n",
    "\n",
    "    print(c)\n",
    "\n",
    "add()"
   ]
  },
  {
   "cell_type": "raw",
   "id": "d379d983",
   "metadata": {},
   "source": [
    "This is because we can only access the global variable but cannot modify it from inside the function."
   ]
  },
  {
   "cell_type": "code",
   "execution_count": 37,
   "id": "a99b2a74",
   "metadata": {},
   "outputs": [
    {
     "name": "stdout",
     "output_type": "stream",
     "text": [
      "3\n"
     ]
    }
   ],
   "source": [
    "#Example: Changing Global Variable From Inside a Function using global\n",
    "# global variable\n",
    "c = 1 \n",
    "\n",
    "def add():\n",
    "\n",
    "    # use of global keyword\n",
    "    global c\n",
    "\n",
    "    # increment c by 2\n",
    "    c = c + 2 \n",
    "\n",
    "    print(c)\n",
    "\n",
    "add()\n",
    "\n",
    "# Output: 3 "
   ]
  },
  {
   "cell_type": "code",
   "execution_count": 19,
   "id": "abdaf5c5",
   "metadata": {},
   "outputs": [
    {
     "name": "stdout",
     "output_type": "stream",
     "text": [
      "Before calling inner_function():  20\n",
      "After calling inner_function():  20\n",
      "Outside both function:  25\n"
     ]
    }
   ],
   "source": [
    "#Global in Nested Functions\n",
    "def outer_function():\n",
    "    num = 20\n",
    "\n",
    "    def inner_function():\n",
    "        global num\n",
    "        num = 25\n",
    "    \n",
    "    print(\"Before calling inner_function(): \", num)\n",
    "    inner_function()\n",
    "    print(\"After calling inner_function(): \", num)\n",
    "\n",
    "outer_function()\n",
    "print(\"Outside both function: \", num)"
   ]
  },
  {
   "cell_type": "markdown",
   "id": "830373b4",
   "metadata": {},
   "source": [
    "Rules of global Keyword\n",
    "The basic rules for global keyword in Python are:\n",
    "\n",
    "1.When we create a variable inside a function, it is local by default.\n",
    "2.When we define a variable outside of a function, it is global by default. You don't have to use the global keyword.\n",
    "3.We use the global keyword to read and write a global variable inside a function.\n",
    "4.Use of the global keyword outside a function has no effect."
   ]
  }
 ],
 "metadata": {
  "kernelspec": {
   "display_name": "Python 3 (ipykernel)",
   "language": "python",
   "name": "python3"
  },
  "language_info": {
   "codemirror_mode": {
    "name": "ipython",
    "version": 3
   },
   "file_extension": ".py",
   "mimetype": "text/x-python",
   "name": "python",
   "nbconvert_exporter": "python",
   "pygments_lexer": "ipython3",
   "version": "3.9.7"
  }
 },
 "nbformat": 4,
 "nbformat_minor": 5
}
