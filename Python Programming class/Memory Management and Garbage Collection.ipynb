{
 "cells": [
  {
   "cell_type": "code",
   "execution_count": null,
   "id": "697522b9",
   "metadata": {},
   "outputs": [],
   "source": [
    "##MEmory Management"
   ]
  },
  {
   "cell_type": "code",
   "execution_count": 1,
   "id": "565c8473",
   "metadata": {},
   "outputs": [],
   "source": [
    "a=11"
   ]
  },
  {
   "cell_type": "code",
   "execution_count": 2,
   "id": "811db3e8",
   "metadata": {},
   "outputs": [
    {
     "data": {
      "text/plain": [
       "2447013145200"
      ]
     },
     "execution_count": 2,
     "metadata": {},
     "output_type": "execute_result"
    }
   ],
   "source": [
    "id(a)"
   ]
  },
  {
   "cell_type": "code",
   "execution_count": 3,
   "id": "ae98e92f",
   "metadata": {},
   "outputs": [],
   "source": [
    "b=11"
   ]
  },
  {
   "cell_type": "code",
   "execution_count": 4,
   "id": "8d54f48b",
   "metadata": {},
   "outputs": [
    {
     "data": {
      "text/plain": [
       "2447013145200"
      ]
     },
     "execution_count": 4,
     "metadata": {},
     "output_type": "execute_result"
    }
   ],
   "source": [
    "id(b)"
   ]
  },
  {
   "cell_type": "code",
   "execution_count": 5,
   "id": "71ee7561",
   "metadata": {},
   "outputs": [],
   "source": [
    "c=10000"
   ]
  },
  {
   "cell_type": "code",
   "execution_count": 6,
   "id": "7ac54162",
   "metadata": {},
   "outputs": [
    {
     "data": {
      "text/plain": [
       "2447097217328"
      ]
     },
     "execution_count": 6,
     "metadata": {},
     "output_type": "execute_result"
    }
   ],
   "source": [
    "id(c)"
   ]
  },
  {
   "cell_type": "code",
   "execution_count": 7,
   "id": "89b59cd7",
   "metadata": {},
   "outputs": [],
   "source": [
    "d=10000"
   ]
  },
  {
   "cell_type": "code",
   "execution_count": 8,
   "id": "8f49ecdc",
   "metadata": {},
   "outputs": [
    {
     "data": {
      "text/plain": [
       "2447097217424"
      ]
     },
     "execution_count": 8,
     "metadata": {},
     "output_type": "execute_result"
    }
   ],
   "source": [
    "id(d)"
   ]
  },
  {
   "cell_type": "code",
   "execution_count": null,
   "id": "27f96972",
   "metadata": {},
   "outputs": [],
   "source": [
    "# -5 to 256 store constant memory values"
   ]
  },
  {
   "cell_type": "code",
   "execution_count": 9,
   "id": "68b0d5d7",
   "metadata": {},
   "outputs": [],
   "source": [
    "value =10\n"
   ]
  },
  {
   "cell_type": "code",
   "execution_count": 10,
   "id": "52ddcbdf",
   "metadata": {},
   "outputs": [],
   "source": [
    "value = 5"
   ]
  },
  {
   "cell_type": "code",
   "execution_count": 18,
   "id": "314042e9",
   "metadata": {},
   "outputs": [],
   "source": []
  },
  {
   "cell_type": "code",
   "execution_count": 11,
   "id": "1f4a1be2",
   "metadata": {},
   "outputs": [
    {
     "name": "stdout",
     "output_type": "stream",
     "text": [
      "5\n"
     ]
    }
   ],
   "source": [
    "print(value)"
   ]
  },
  {
   "cell_type": "code",
   "execution_count": null,
   "id": "f6070beb",
   "metadata": {},
   "outputs": [],
   "source": []
  }
 ],
 "metadata": {
  "kernelspec": {
   "display_name": "Python 3 (ipykernel)",
   "language": "python",
   "name": "python3"
  },
  "language_info": {
   "codemirror_mode": {
    "name": "ipython",
    "version": 3
   },
   "file_extension": ".py",
   "mimetype": "text/x-python",
   "name": "python",
   "nbconvert_exporter": "python",
   "pygments_lexer": "ipython3",
   "version": "3.9.7"
  }
 },
 "nbformat": 4,
 "nbformat_minor": 5
}
